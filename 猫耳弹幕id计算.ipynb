{
  "nbformat": 4,
  "nbformat_minor": 0,
  "metadata": {
    "colab": {
      "provenance": []
    },
    "kernelspec": {
      "name": "python3",
      "display_name": "Python 3"
    },
    "language_info": {
      "name": "python"
    }
  },
  "cells": [
    {
      "cell_type": "code",
      "execution_count": 13,
      "metadata": {
        "colab": {
          "base_uri": "https://localhost:8080/",
          "height": 332
        },
        "id": "apjDOUkLXxS5",
        "outputId": "5a1d9ce4-d7ce-404b-86a4-59453df50cf8"
      },
      "outputs": [
        {
          "output_type": "error",
          "ename": "AttributeError",
          "evalue": "'DataFrame' object has no attribute 'append'",
          "traceback": [
            "\u001b[0;31m---------------------------------------------------------------------------\u001b[0m",
            "\u001b[0;31mAttributeError\u001b[0m                            Traceback (most recent call last)",
            "\u001b[0;32m<ipython-input-13-1d01dde871ca>\u001b[0m in \u001b[0;36m<cell line: 20>\u001b[0;34m()\u001b[0m\n\u001b[1;32m     33\u001b[0m     \u001b[0muid\u001b[0m \u001b[0;34m=\u001b[0m\u001b[0mdms\u001b[0m\u001b[0;34m.\u001b[0m\u001b[0mstr\u001b[0m\u001b[0;34m.\u001b[0m\u001b[0msplit\u001b[0m\u001b[0;34m(\u001b[0m\u001b[0;34m','\u001b[0m\u001b[0;34m,\u001b[0m\u001b[0mexpand\u001b[0m\u001b[0;34m=\u001b[0m\u001b[0;32mTrue\u001b[0m\u001b[0;34m)\u001b[0m\u001b[0;34m[\u001b[0m\u001b[0;36m6\u001b[0m\u001b[0;34m]\u001b[0m\u001b[0;34m\u001b[0m\u001b[0;34m\u001b[0m\u001b[0m\n\u001b[1;32m     34\u001b[0m     \u001b[0mdm2\u001b[0m\u001b[0;34m[\u001b[0m\u001b[0;34m'uid'\u001b[0m\u001b[0;34m]\u001b[0m\u001b[0;34m=\u001b[0m\u001b[0muid\u001b[0m\u001b[0;34m\u001b[0m\u001b[0;34m\u001b[0m\u001b[0m\n\u001b[0;32m---> 35\u001b[0;31m     \u001b[0mdm1\u001b[0m\u001b[0;34m=\u001b[0m\u001b[0mdm1\u001b[0m\u001b[0;34m.\u001b[0m\u001b[0mappend\u001b[0m\u001b[0;34m(\u001b[0m\u001b[0mdm2\u001b[0m\u001b[0;34m)\u001b[0m\u001b[0;34m\u001b[0m\u001b[0;34m\u001b[0m\u001b[0m\n\u001b[0m\u001b[1;32m     36\u001b[0m \u001b[0;34m\u001b[0m\u001b[0m\n\u001b[1;32m     37\u001b[0m \u001b[0mprint\u001b[0m\u001b[0;34m(\u001b[0m\u001b[0;34m\"本剧实时付费ID为：\"\u001b[0m\u001b[0;34m,\u001b[0m \u001b[0mlen\u001b[0m\u001b[0;34m(\u001b[0m\u001b[0mdm1\u001b[0m\u001b[0;34m[\u001b[0m\u001b[0;34m'uid'\u001b[0m\u001b[0;34m]\u001b[0m\u001b[0;34m.\u001b[0m\u001b[0munique\u001b[0m\u001b[0;34m(\u001b[0m\u001b[0;34m)\u001b[0m\u001b[0;34m)\u001b[0m\u001b[0;34m)\u001b[0m\u001b[0;34m\u001b[0m\u001b[0;34m\u001b[0m\u001b[0m\n",
            "\u001b[0;32m/usr/local/lib/python3.10/dist-packages/pandas/core/generic.py\u001b[0m in \u001b[0;36m__getattr__\u001b[0;34m(self, name)\u001b[0m\n\u001b[1;32m   6202\u001b[0m         ):\n\u001b[1;32m   6203\u001b[0m             \u001b[0;32mreturn\u001b[0m \u001b[0mself\u001b[0m\u001b[0;34m[\u001b[0m\u001b[0mname\u001b[0m\u001b[0;34m]\u001b[0m\u001b[0;34m\u001b[0m\u001b[0;34m\u001b[0m\u001b[0m\n\u001b[0;32m-> 6204\u001b[0;31m         \u001b[0;32mreturn\u001b[0m \u001b[0mobject\u001b[0m\u001b[0;34m.\u001b[0m\u001b[0m__getattribute__\u001b[0m\u001b[0;34m(\u001b[0m\u001b[0mself\u001b[0m\u001b[0;34m,\u001b[0m \u001b[0mname\u001b[0m\u001b[0;34m)\u001b[0m\u001b[0;34m\u001b[0m\u001b[0;34m\u001b[0m\u001b[0m\n\u001b[0m\u001b[1;32m   6205\u001b[0m \u001b[0;34m\u001b[0m\u001b[0m\n\u001b[1;32m   6206\u001b[0m     \u001b[0;34m@\u001b[0m\u001b[0mfinal\u001b[0m\u001b[0;34m\u001b[0m\u001b[0;34m\u001b[0m\u001b[0m\n",
            "\u001b[0;31mAttributeError\u001b[0m: 'DataFrame' object has no attribute 'append'"
          ]
        }
      ],
      "source": [
        "import requests\n",
        "import re\n",
        "import pandas as pd\n",
        "\n",
        "#输入剧集地址\n",
        "drama_id ='   https://www.missevan.com/mdrama/76879   '\n",
        "\n",
        "drama_url = 'http://www.missevan.com/dramaapi/getdrama?drama_id=  '\n",
        "url = drama_url +drama_id.split(\"/\")[4]\n",
        "drama_result =requests.get(url).text\n",
        "pattern1 =re.compile('sound_id\":(.+?),\"type')\n",
        "pattern2 = re.compile('\"need_pay\":(.+?),\"')\n",
        "sound_id = re.findall(pattern1, drama_result)\n",
        "pay_type = re.findall(pattern2, drama_result)\n",
        "pay_type =pay_type[1:]\n",
        "drama = pd.DataFrame({'sound_id': sound_id,'pay_type':pay_type})\n",
        "sound_id =list(drama['sound_id'][drama['pay_type']=='1'])\n",
        "sound_url = 'http://www.missevan.com/sound/getdm?soundid='\n",
        "\n",
        "for i in range(0,len(sound_id)):\n",
        "  url=sound_url+sound_id[i]\n",
        "  sound_result=requests.get(url).text\n",
        "  pattern3=re.compile(r'p=\"(.+?)\"')\n",
        "  dm =re.findall(pattern3, sound_result)\n",
        "  if i==0:\n",
        "    dm1=pd.DataFrame({'dm':dm})\n",
        "    dms=dm1['dm'].str.split('>',expand=True)[0]\n",
        "    uid =dms.str.split(',',expand=True)[6]\n",
        "    dm1['uid']=uid\n",
        "  else:\n",
        "    dm2=pd.DataFrame({'dm':dm})\n",
        "    dms_i=dm2['dm'].str.split('>',expand=True)[0]\n",
        "    uid =dms.str.split(',',expand=True)[6]\n",
        "    dm2['uid']=uid\n",
        "    dm1=dm1.append(dm2)\n",
        "\n",
        "print(\"本剧实时付费ID为：\", len(dm1['uid'].unique()))\n",
        "print(\"本剧实时付费弹幕数量为：\",len(dm1['uid']))"
      ]
    },
    {
      "cell_type": "markdown",
      "source": [
        "猫耳付费id抓取，正确版\n"
      ],
      "metadata": {
        "id": "AomV1aRflL8a"
      }
    },
    {
      "cell_type": "code",
      "source": [
        "import requests\n",
        "import re\n",
        "import pandas as pd\n",
        "\n",
        "# 输入剧集地址\n",
        "drama_id = 'https://www.missevan.com/mdrama/75026'\n",
        "\n",
        "# 构建 URL\n",
        "drama_url = 'http://www.missevan.com/dramaapi/getdrama?drama_id='\n",
        "url = drama_url + drama_id.split(\"/\")[4]\n",
        "\n",
        "# 请求剧集数据\n",
        "drama_result = requests.get(url).text\n",
        "\n",
        "# 使用正则表达式提取 sound_id 和 pay_type\n",
        "pattern1 = re.compile(r'\"sound_id\":(\\d+),')  # 提取 sound_id\n",
        "pattern2 = re.compile(r'\"need_pay\":(\\d+),')  # 提取付费状态 need_pay\n",
        "sound_id = re.findall(pattern1, drama_result)\n",
        "pay_type = re.findall(pattern2, drama_result)\n",
        "\n",
        "# 去掉第一个非付费项\n",
        "pay_type = pay_type[1:]\n",
        "\n",
        "# 创建 DataFrame\n",
        "drama = pd.DataFrame({'sound_id': sound_id, 'pay_type': pay_type})\n",
        "\n",
        "# 筛选付费 sound_id\n",
        "sound_id = list(drama['sound_id'][drama['pay_type'] == '1'])\n",
        "\n",
        "sound_url = 'http://www.missevan.com/sound/getdm?soundid='\n",
        "dm1 = pd.DataFrame()\n",
        "\n",
        "# 循环处理每个 sound_id，获取弹幕信息\n",
        "for i in range(len(sound_id)):\n",
        "    url = sound_url + sound_id[i]\n",
        "    sound_result = requests.get(url).text\n",
        "\n",
        "    # 提取弹幕内容\n",
        "    pattern3 = re.compile(r'p=\"(.+?)\"')\n",
        "    dm = re.findall(pattern3, sound_result)\n",
        "\n",
        "    # 将弹幕数据存储到 DataFrame\n",
        "    dm_temp = pd.DataFrame({'dm': dm})\n",
        "    dms_split = dm_temp['dm'].str.split('>', expand=True)[0]\n",
        "    uid = dms_split.str.split(',', expand=True)[6]\n",
        "    dm_temp['uid'] = uid\n",
        "\n",
        "    # 合并数据，使用 pd.concat() 替代 append()\n",
        "    if i == 0:\n",
        "        dm1 = dm_temp\n",
        "    else:\n",
        "        dm1 = pd.concat([dm1, dm_temp], ignore_index=True)\n",
        "\n",
        "# 输出不重复的 UID 数量和总弹幕数量\n",
        "print(\"本剧实时付费ID为：\", len(dm1['uid'].unique()))\n",
        "print(\"本剧实时付费弹幕数量为：\", len(dm1['uid']))\n"
      ],
      "metadata": {
        "colab": {
          "base_uri": "https://localhost:8080/"
        },
        "id": "ThOpc2GnjIPW",
        "outputId": "ab289e10-f831-4056-933e-4e0b2c65ea04"
      },
      "execution_count": 16,
      "outputs": [
        {
          "output_type": "stream",
          "name": "stdout",
          "text": [
            "本剧实时付费ID为： 16906\n",
            "本剧实时付费弹幕数量为： 447497\n"
          ]
        }
      ]
    },
    {
      "cell_type": "markdown",
      "source": [
        "漫播弹幕id抓取\n"
      ],
      "metadata": {
        "id": "Ud6kkaDum3RI"
      }
    },
    {
      "cell_type": "code",
      "source": [
        "import requests\n",
        "import re\n",
        "import json\n",
        "\n",
        "# 输入漫播剧集的任意一集链接（PC 或 APP 端）\n",
        "url = \"https://manbo.kilakila.cn/manbo/pc/detail?id=1944764730950287431&collectId=1962350882565652519\"\n",
        "\n",
        "# 判断链接类型\n",
        "if 'pc' in url:\n",
        "    detail_id = url.split('Id=')[1].split('&')[0]  # 提取 detail_id\n",
        "    new_url = \"https://manbo.hongdoulive.com/web_manbo/dramaSetDetail?dramaSetId=\" + detail_id\n",
        "    temp = 'data'\n",
        "else:\n",
        "    episode_id = url.split('id=')[1][:19]  # 提取 episode_id\n",
        "    radio_id = url.split('DramaId=')[1][:19]  # 提取 radio_id\n",
        "    new_url = \"https://manbo.hongrenshuo.com.cn/api/v207/radio/drama/set/h5/detail?radioDramaSetId=%s&radioDramaId=%s\" % (episode_id, radio_id)\n",
        "    temp = 'b'\n",
        "\n",
        "\n",
        "r= requests.get(new_url).text\n",
        "r= str(json.loads(r)[temp]['radioDramaResp']['setRespList'])\n",
        "# 请求新的 URL，获取剧集信息\n",
        "#response = requests.get(new_url).text\n",
        "\n",
        "# 解析 JSON 数据，提取付费集信息\n",
        "#r = json.loads(response)\n",
        "pattern1 = re.compile(\"'vipFree': (.+?),\")\n",
        "vipFree = re.findall(pattern1, r)\n",
        "num = len(vipFree)\n",
        "\n",
        "pattern2 = re.compile(\"'setId': (.+?),\")\n",
        "setId = re.findall(pattern2, r)\n",
        "\n",
        "# 找到所有免费集或付费集的 ID\n",
        "episodes = [setId[i] for i in range(num) if vipFree[i] == '1']\n",
        "\n",
        "# 如果没有免费集，查找付费集\n",
        "if len(episodes) == 0:\n",
        "    pattern3 = re.compile(\"'payType': (.+?),\")\n",
        "    payType = re.findall(pattern3, r)\n",
        "    episodes = [setId[i] for i in range(num) if payType[i] == '1']\n",
        "\n",
        "# 弹幕列表\n",
        "danmu = []\n",
        "\n",
        "# 获取每集的弹幕信息\n",
        "for each in episodes:\n",
        "    next_url = \"https://manbo.hongrenshuo.com.cn/api/v11/radio/drama/set/danmaku/h5/pull?radioDramaSetId=%s&startTime=0&endTime=10000000\" % each\n",
        "    print(next_url)\n",
        "    danmakuList = json.loads(requests.get(next_url).content)['b']['danmakuList']\n",
        "\n",
        "    # 提取每条弹幕的 eid\n",
        "    for j in danmakuList:\n",
        "        danmu.append(j['eid'])\n",
        "\n",
        "# 输出不重复的弹幕 ID 数量和总弹幕数量\n",
        "print(\"付费集ID数：%d\" % len(set(danmu)))\n",
        "print(\"付费集弹幕数：%d\" % len(danmu))\n"
      ],
      "metadata": {
        "colab": {
          "base_uri": "https://localhost:8080/"
        },
        "id": "XstZ4cYCmbJT",
        "outputId": "89106c24-1915-42fd-b183-215b26ca9403"
      },
      "execution_count": 20,
      "outputs": [
        {
          "output_type": "stream",
          "name": "stdout",
          "text": [
            "https://manbo.hongrenshuo.com.cn/api/v11/radio/drama/set/danmaku/h5/pull?radioDramaSetId=1972503008432357537&startTime=0&endTime=10000000\n",
            "https://manbo.hongrenshuo.com.cn/api/v11/radio/drama/set/danmaku/h5/pull?radioDramaSetId=1975132550619725955&startTime=0&endTime=10000000\n",
            "https://manbo.hongrenshuo.com.cn/api/v11/radio/drama/set/danmaku/h5/pull?radioDramaSetId=1977715801649578080&startTime=0&endTime=10000000\n",
            "https://manbo.hongrenshuo.com.cn/api/v11/radio/drama/set/danmaku/h5/pull?radioDramaSetId=1980245223854309438&startTime=0&endTime=10000000\n",
            "https://manbo.hongrenshuo.com.cn/api/v11/radio/drama/set/danmaku/h5/pull?radioDramaSetId=1982901424903684266&startTime=0&endTime=10000000\n",
            "https://manbo.hongrenshuo.com.cn/api/v11/radio/drama/set/danmaku/h5/pull?radioDramaSetId=1985499098433716288&startTime=0&endTime=10000000\n",
            "https://manbo.hongrenshuo.com.cn/api/v11/radio/drama/set/danmaku/h5/pull?radioDramaSetId=1988100293836931134&startTime=0&endTime=10000000\n",
            "https://manbo.hongrenshuo.com.cn/api/v11/radio/drama/set/danmaku/h5/pull?radioDramaSetId=1990677854035116060&startTime=0&endTime=10000000\n",
            "https://manbo.hongrenshuo.com.cn/api/v11/radio/drama/set/danmaku/h5/pull?radioDramaSetId=1993256900291985543&startTime=0&endTime=10000000\n",
            "https://manbo.hongrenshuo.com.cn/api/v11/radio/drama/set/danmaku/h5/pull?radioDramaSetId=1995885304313020545&startTime=0&endTime=10000000\n",
            "https://manbo.hongrenshuo.com.cn/api/v11/radio/drama/set/danmaku/h5/pull?radioDramaSetId=1992369426904645730&startTime=0&endTime=10000000\n",
            "https://manbo.hongrenshuo.com.cn/api/v11/radio/drama/set/danmaku/h5/pull?radioDramaSetId=1981171382012084546&startTime=0&endTime=10000000\n",
            "https://manbo.hongrenshuo.com.cn/api/v11/radio/drama/set/danmaku/h5/pull?radioDramaSetId=1981171390602019076&startTime=0&endTime=10000000\n",
            "付费集ID数：7275\n",
            "付费集弹幕数：169038\n"
          ]
        }
      ]
    }
  ]
}