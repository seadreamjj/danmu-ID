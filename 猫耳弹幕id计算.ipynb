{
  "nbformat": 4,
  "nbformat_minor": 0,
  "metadata": {
    "colab": {
      "provenance": [],
      "authorship_tag": "ABX9TyONQV5jpTEccOteo8fe2KJg",
      "include_colab_link": true
    },
    "kernelspec": {
      "name": "python3",
      "display_name": "Python 3"
    },
    "language_info": {
      "name": "python"
    }
  },
  "cells": [
    {
      "cell_type": "markdown",
      "metadata": {
        "id": "view-in-github",
        "colab_type": "text"
      },
      "source": [
        "<a href=\"https://colab.research.google.com/github/seadreamjj/danmu-ID/blob/main/%E7%8C%AB%E8%80%B3%E5%BC%B9%E5%B9%95id%E8%AE%A1%E7%AE%97.ipynb\" target=\"_parent\"><img src=\"https://colab.research.google.com/assets/colab-badge.svg\" alt=\"Open In Colab\"/></a>"
      ]
    },
    {
      "cell_type": "code",
      "execution_count": 13,
      "metadata": {
        "colab": {
          "base_uri": "https://localhost:8080/",
          "height": 332
        },
        "id": "apjDOUkLXxS5",
        "outputId": "5a1d9ce4-d7ce-404b-86a4-59453df50cf8"
      },
      "outputs": [
        {
          "output_type": "error",
          "ename": "AttributeError",
          "evalue": "'DataFrame' object has no attribute 'append'",
          "traceback": [
            "\u001b[0;31m---------------------------------------------------------------------------\u001b[0m",
            "\u001b[0;31mAttributeError\u001b[0m                            Traceback (most recent call last)",
            "\u001b[0;32m<ipython-input-13-1d01dde871ca>\u001b[0m in \u001b[0;36m<cell line: 20>\u001b[0;34m()\u001b[0m\n\u001b[1;32m     33\u001b[0m     \u001b[0muid\u001b[0m \u001b[0;34m=\u001b[0m\u001b[0mdms\u001b[0m\u001b[0;34m.\u001b[0m\u001b[0mstr\u001b[0m\u001b[0;34m.\u001b[0m\u001b[0msplit\u001b[0m\u001b[0;34m(\u001b[0m\u001b[0;34m','\u001b[0m\u001b[0;34m,\u001b[0m\u001b[0mexpand\u001b[0m\u001b[0;34m=\u001b[0m\u001b[0;32mTrue\u001b[0m\u001b[0;34m)\u001b[0m\u001b[0;34m[\u001b[0m\u001b[0;36m6\u001b[0m\u001b[0;34m]\u001b[0m\u001b[0;34m\u001b[0m\u001b[0;34m\u001b[0m\u001b[0m\n\u001b[1;32m     34\u001b[0m     \u001b[0mdm2\u001b[0m\u001b[0;34m[\u001b[0m\u001b[0;34m'uid'\u001b[0m\u001b[0;34m]\u001b[0m\u001b[0;34m=\u001b[0m\u001b[0muid\u001b[0m\u001b[0;34m\u001b[0m\u001b[0;34m\u001b[0m\u001b[0m\n\u001b[0;32m---> 35\u001b[0;31m     \u001b[0mdm1\u001b[0m\u001b[0;34m=\u001b[0m\u001b[0mdm1\u001b[0m\u001b[0;34m.\u001b[0m\u001b[0mappend\u001b[0m\u001b[0;34m(\u001b[0m\u001b[0mdm2\u001b[0m\u001b[0;34m)\u001b[0m\u001b[0;34m\u001b[0m\u001b[0;34m\u001b[0m\u001b[0m\n\u001b[0m\u001b[1;32m     36\u001b[0m \u001b[0;34m\u001b[0m\u001b[0m\n\u001b[1;32m     37\u001b[0m \u001b[0mprint\u001b[0m\u001b[0;34m(\u001b[0m\u001b[0;34m\"本剧实时付费ID为：\"\u001b[0m\u001b[0;34m,\u001b[0m \u001b[0mlen\u001b[0m\u001b[0;34m(\u001b[0m\u001b[0mdm1\u001b[0m\u001b[0;34m[\u001b[0m\u001b[0;34m'uid'\u001b[0m\u001b[0;34m]\u001b[0m\u001b[0;34m.\u001b[0m\u001b[0munique\u001b[0m\u001b[0;34m(\u001b[0m\u001b[0;34m)\u001b[0m\u001b[0;34m)\u001b[0m\u001b[0;34m)\u001b[0m\u001b[0;34m\u001b[0m\u001b[0;34m\u001b[0m\u001b[0m\n",
            "\u001b[0;32m/usr/local/lib/python3.10/dist-packages/pandas/core/generic.py\u001b[0m in \u001b[0;36m__getattr__\u001b[0;34m(self, name)\u001b[0m\n\u001b[1;32m   6202\u001b[0m         ):\n\u001b[1;32m   6203\u001b[0m             \u001b[0;32mreturn\u001b[0m \u001b[0mself\u001b[0m\u001b[0;34m[\u001b[0m\u001b[0mname\u001b[0m\u001b[0;34m]\u001b[0m\u001b[0;34m\u001b[0m\u001b[0;34m\u001b[0m\u001b[0m\n\u001b[0;32m-> 6204\u001b[0;31m         \u001b[0;32mreturn\u001b[0m \u001b[0mobject\u001b[0m\u001b[0;34m.\u001b[0m\u001b[0m__getattribute__\u001b[0m\u001b[0;34m(\u001b[0m\u001b[0mself\u001b[0m\u001b[0;34m,\u001b[0m \u001b[0mname\u001b[0m\u001b[0;34m)\u001b[0m\u001b[0;34m\u001b[0m\u001b[0;34m\u001b[0m\u001b[0m\n\u001b[0m\u001b[1;32m   6205\u001b[0m \u001b[0;34m\u001b[0m\u001b[0m\n\u001b[1;32m   6206\u001b[0m     \u001b[0;34m@\u001b[0m\u001b[0mfinal\u001b[0m\u001b[0;34m\u001b[0m\u001b[0;34m\u001b[0m\u001b[0m\n",
            "\u001b[0;31mAttributeError\u001b[0m: 'DataFrame' object has no attribute 'append'"
          ]
        }
      ],
      "source": [
        "import requests\n",
        "import re\n",
        "import pandas as pd\n",
        "\n",
        "#输入剧集地址\n",
        "drama_id ='   https://www.missevan.com/mdrama/76879   '\n",
        "\n",
        "drama_url = 'http://www.missevan.com/dramaapi/getdrama?drama_id=  '\n",
        "url = drama_url +drama_id.split(\"/\")[4]\n",
        "drama_result =requests.get(url).text\n",
        "pattern1 =re.compile('sound_id\":(.+?),\"type')\n",
        "pattern2 = re.compile('\"need_pay\":(.+?),\"')\n",
        "sound_id = re.findall(pattern1, drama_result)\n",
        "pay_type = re.findall(pattern2, drama_result)\n",
        "pay_type =pay_type[1:]\n",
        "drama = pd.DataFrame({'sound_id': sound_id,'pay_type':pay_type})\n",
        "sound_id =list(drama['sound_id'][drama['pay_type']=='1'])\n",
        "sound_url = 'http://www.missevan.com/sound/getdm?soundid='\n",
        "\n",
        "for i in range(0,len(sound_id)):\n",
        "  url=sound_url+sound_id[i]\n",
        "  sound_result=requests.get(url).text\n",
        "  pattern3=re.compile(r'p=\"(.+?)\"')\n",
        "  dm =re.findall(pattern3, sound_result)\n",
        "  if i==0:\n",
        "    dm1=pd.DataFrame({'dm':dm})\n",
        "    dms=dm1['dm'].str.split('>',expand=True)[0]\n",
        "    uid =dms.str.split(',',expand=True)[6]\n",
        "    dm1['uid']=uid\n",
        "  else:\n",
        "    dm2=pd.DataFrame({'dm':dm})\n",
        "    dms_i=dm2['dm'].str.split('>',expand=True)[0]\n",
        "    uid =dms.str.split(',',expand=True)[6]\n",
        "    dm2['uid']=uid\n",
        "    dm1=dm1.append(dm2)\n",
        "\n",
        "print(\"本剧实时付费ID为：\", len(dm1['uid'].unique()))\n",
        "print(\"本剧实时付费弹幕数量为：\",len(dm1['uid']))"
      ]
    },
    {
      "cell_type": "markdown",
      "source": [
        "猫耳付费id抓取，正确版\n"
      ],
      "metadata": {
        "id": "AomV1aRflL8a"
      }
    },
    {
      "cell_type": "code",
      "source": [
        "import requests\n",
        "import re\n",
        "import pandas as pd\n",
        "\n",
        "# 输入剧集地址\n",
        "drama_id = 'https://www.missevan.com/mdrama/74274'\n",
        "\n",
        "# 构建 URL\n",
        "drama_url = 'http://www.missevan.com/dramaapi/getdrama?drama_id='\n",
        "url = drama_url + drama_id.split(\"/\")[4]\n",
        "\n",
        "# 请求剧集数据\n",
        "drama_result = requests.get(url).text\n",
        "\n",
        "# 使用正则表达式提取 sound_id 和 pay_type\n",
        "pattern1 = re.compile(r'\"sound_id\":(\\d+),')  # 提取 sound_id\n",
        "pattern2 = re.compile(r'\"need_pay\":(\\d+),')  # 提取付费状态 need_pay\n",
        "sound_id = re.findall(pattern1, drama_result)\n",
        "pay_type = re.findall(pattern2, drama_result)\n",
        "\n",
        "# 去掉第一个非付费项\n",
        "pay_type = pay_type[1:]\n",
        "\n",
        "# 创建 DataFrame\n",
        "drama = pd.DataFrame({'sound_id': sound_id, 'pay_type': pay_type})\n",
        "\n",
        "# 筛选付费 sound_id\n",
        "sound_id = list(drama['sound_id'][drama['pay_type'] == '1'])\n",
        "\n",
        "sound_url = 'http://www.missevan.com/sound/getdm?soundid='\n",
        "dm1 = pd.DataFrame()\n",
        "\n",
        "# 循环处理每个 sound_id，获取弹幕信息\n",
        "for i in range(len(sound_id)):\n",
        "    url = sound_url + sound_id[i]\n",
        "    sound_result = requests.get(url).text\n",
        "\n",
        "    # 提取弹幕内容\n",
        "    pattern3 = re.compile(r'p=\"(.+?)\"')\n",
        "    dm = re.findall(pattern3, sound_result)\n",
        "\n",
        "    # 将弹幕数据存储到 DataFrame\n",
        "    dm_temp = pd.DataFrame({'dm': dm})\n",
        "    dms_split = dm_temp['dm'].str.split('>', expand=True)[0]\n",
        "    uid = dms_split.str.split(',', expand=True)[6]\n",
        "    dm_temp['uid'] = uid\n",
        "\n",
        "    # 合并数据，使用 pd.concat() 替代 append()\n",
        "    if i == 0:\n",
        "        dm1 = dm_temp\n",
        "    else:\n",
        "        dm1 = pd.concat([dm1, dm_temp], ignore_index=True)\n",
        "\n",
        "# 输出不重复的 UID 数量和总弹幕数量\n",
        "print(\"本剧实时付费ID为：\", len(dm1['uid'].unique()))\n",
        "print(\"本剧实时付费弹幕数量为：\", len(dm1['uid']))\n"
      ],
      "metadata": {
        "colab": {
          "base_uri": "https://localhost:8080/"
        },
        "id": "ThOpc2GnjIPW",
        "outputId": "6796b0c8-a19a-4435-f522-08fefbec5a80"
      },
      "execution_count": 8,
      "outputs": [
        {
          "output_type": "stream",
          "name": "stdout",
          "text": [
            "本剧实时付费ID为： 550\n",
            "本剧实时付费弹幕数量为： 17520\n"
          ]
        }
      ]
    },
    {
      "cell_type": "markdown",
      "source": [
        "# 新段落"
      ],
      "metadata": {
        "id": "X8XAbpTYoZJW"
      }
    },
    {
      "cell_type": "markdown",
      "source": [
        "漫播弹幕id抓取\n"
      ],
      "metadata": {
        "id": "Ud6kkaDum3RI"
      }
    },
    {
      "cell_type": "code",
      "source": [
        "import requests\n",
        "import re\n",
        "import json\n",
        "\n",
        "# 输入漫播剧集的任意一集链接（PC 或 APP 端）\n",
        "url = \"https://www.kilamanbo.com/manbo/pc/detail?id=1937619915414438001&collectId=1945864036419633309\"\n",
        "\n",
        "# 判断链接类型\n",
        "if 'pc' in url:\n",
        "    detail_id = url.split('Id=')[1].split('&')[0]  # 提取 detail_id\n",
        "    new_url = \"https://manbo.hongdoulive.com/web_manbo/dramaSetDetail?dramaSetId=\" + detail_id\n",
        "    temp = 'data'\n",
        "else:\n",
        "    episode_id = url.split('id=')[1][:19]  # 提取 episode_id\n",
        "    radio_id = url.split('DramaId=')[1][:19]  # 提取 radio_id\n",
        "    new_url = \"https://manbo.hongrenshuo.com.cn/api/v207/radio/drama/set/h5/detail?radioDramaSetId=%s&radioDramaId=%s\" % (episode_id, radio_id)\n",
        "    temp = 'b'\n",
        "\n",
        "\n",
        "r= requests.get(new_url).text\n",
        "r= str(json.loads(r)[temp]['radioDramaResp']['setRespList'])\n",
        "# 请求新的 URL，获取剧集信息\n",
        "#response = requests.get(new_url).text\n",
        "\n",
        "# 解析 JSON 数据，提取付费集信息\n",
        "#r = json.loads(response)\n",
        "pattern1 = re.compile(\"'vipFree': (.+?),\")\n",
        "vipFree = re.findall(pattern1, r)\n",
        "num = len(vipFree)\n",
        "\n",
        "pattern2 = re.compile(\"'setId': (.+?),\")\n",
        "setId = re.findall(pattern2, r)\n",
        "\n",
        "# 找到所有免费集或付费集的 ID\n",
        "episodes = [setId[i] for i in range(num) if vipFree[i] == '1']\n",
        "\n",
        "# 如果没有免费集，查找付费集\n",
        "if len(episodes) == 0:\n",
        "    pattern3 = re.compile(\"'payType': (.+?),\")\n",
        "    payType = re.findall(pattern3, r)\n",
        "    episodes = [setId[i] for i in range(num) if payType[i] == '1']\n",
        "\n",
        "# 弹幕列表\n",
        "danmu = []\n",
        "\n",
        "# 获取每集的弹幕信息\n",
        "for each in episodes:\n",
        "    next_url = \"https://manbo.hongrenshuo.com.cn/api/v11/radio/drama/set/danmaku/h5/pull?radioDramaSetId=%s&startTime=0&endTime=10000000\" % each\n",
        "    print(next_url)\n",
        "    danmakuList = json.loads(requests.get(next_url).content)['b']['danmakuList']\n",
        "\n",
        "    # 提取每条弹幕的 eid\n",
        "    for j in danmakuList:\n",
        "        danmu.append(j['eid'])\n",
        "\n",
        "# 输出不重复的弹幕 ID 数量和总弹幕数量\n",
        "print(\"付费集ID数：%d\" % len(set(danmu)))\n",
        "print(\"付费集弹幕数：%d\" % len(danmu))\n"
      ],
      "metadata": {
        "colab": {
          "base_uri": "https://localhost:8080/"
        },
        "id": "XstZ4cYCmbJT",
        "outputId": "89bf64d6-423c-41cb-b5be-d16edc24decd"
      },
      "execution_count": 12,
      "outputs": [
        {
          "output_type": "stream",
          "name": "stdout",
          "text": [
            "https://manbo.hongrenshuo.com.cn/api/v11/radio/drama/set/danmaku/h5/pull?radioDramaSetId=1952275658088382525&startTime=0&endTime=10000000\n",
            "https://manbo.hongrenshuo.com.cn/api/v11/radio/drama/set/danmaku/h5/pull?radioDramaSetId=1954804814005141586&startTime=0&endTime=10000000\n",
            "https://manbo.hongrenshuo.com.cn/api/v11/radio/drama/set/danmaku/h5/pull?radioDramaSetId=1957461100953862215&startTime=0&endTime=10000000\n",
            "https://manbo.hongrenshuo.com.cn/api/v11/radio/drama/set/danmaku/h5/pull?radioDramaSetId=1960056287697830140&startTime=0&endTime=10000000\n",
            "https://manbo.hongrenshuo.com.cn/api/v11/radio/drama/set/danmaku/h5/pull?radioDramaSetId=1962697177188794464&startTime=0&endTime=10000000\n",
            "https://manbo.hongrenshuo.com.cn/api/v11/radio/drama/set/danmaku/h5/pull?radioDramaSetId=1962696064792264745&startTime=0&endTime=10000000\n",
            "https://manbo.hongrenshuo.com.cn/api/v11/radio/drama/set/danmaku/h5/pull?radioDramaSetId=1963435314563252306&startTime=0&endTime=10000000\n",
            "https://manbo.hongrenshuo.com.cn/api/v11/radio/drama/set/danmaku/h5/pull?radioDramaSetId=1967850974735237401&startTime=0&endTime=10000000\n",
            "https://manbo.hongrenshuo.com.cn/api/v11/radio/drama/set/danmaku/h5/pull?radioDramaSetId=1970490859203854410&startTime=0&endTime=10000000\n",
            "https://manbo.hongrenshuo.com.cn/api/v11/radio/drama/set/danmaku/h5/pull?radioDramaSetId=1973026066729533624&startTime=0&endTime=10000000\n",
            "https://manbo.hongrenshuo.com.cn/api/v11/radio/drama/set/danmaku/h5/pull?radioDramaSetId=1975578973815439429&startTime=0&endTime=10000000\n",
            "https://manbo.hongrenshuo.com.cn/api/v11/radio/drama/set/danmaku/h5/pull?radioDramaSetId=1978255494355091909&startTime=0&endTime=10000000\n",
            "https://manbo.hongrenshuo.com.cn/api/v11/radio/drama/set/danmaku/h5/pull?radioDramaSetId=1980858283191173474&startTime=0&endTime=10000000\n",
            "付费集ID数：1169\n",
            "付费集弹幕数：40171\n"
          ]
        }
      ]
    },
    {
      "cell_type": "markdown",
      "source": [
        "调整漫播数据，只保留正剧（去掉付费集花絮）"
      ],
      "metadata": {
        "id": "HAmj4TsnyFcy"
      }
    },
    {
      "cell_type": "markdown",
      "source": [
        "试图计算猫耳收费剧集的平均时长\n"
      ],
      "metadata": {
        "id": "V0mZwHJe4DF9"
      }
    },
    {
      "cell_type": "code",
      "source": [
        "import requests\n",
        "import re\n",
        "import pandas as pd\n",
        "\n",
        "# 输入剧集地址\n",
        "drama_id = 'https://www.missevan.com/mdrama/77685'\n",
        "\n",
        "# 构建 URL\n",
        "drama_url = 'http://www.missevan.com/dramaapi/getdrama?drama_id='\n",
        "url = drama_url + drama_id.split(\"/\")[4]\n",
        "\n",
        "# 请求剧集数据\n",
        "drama_result = requests.get(url).text\n",
        "\n",
        "# 使用正则表达式提取 sound_id、pay_type 和 duration\n",
        "pattern1 = re.compile(r'\"sound_id\":(\\d+),')  # 提取 sound_id\n",
        "pattern2 = re.compile(r'\"need_pay\":(\\d+),')  # 提取付费状态 need_pay\n",
        "pattern3 = re.compile(r'\"duration\":(\\d+),')  # 提取时长 duration (秒)\n",
        "\n",
        "sound_id = re.findall(pattern1, drama_result)\n",
        "pay_type = re.findall(pattern2, drama_result)\n",
        "durations = re.findall(pattern3, drama_result)\n",
        "\n",
        "# 打印各列表的长度，检查是否一致\n",
        "print(\"sound_id 长度:\", len(sound_id))\n",
        "print(\"pay_type 长度:\", len(pay_type))\n",
        "print(\"durations 长度:\", len(durations))\n",
        "\n",
        "# 去掉第一个非付费项（通常第一个为非付费）\n",
        "pay_type = pay_type[1:]\n",
        "durations = durations[1:]\n",
        "\n",
        "# 确保长度一致后才能继续创建 DataFrame\n",
        "min_length = min(len(sound_id), len(pay_type), len(durations))\n",
        "\n",
        "# 截断为相同的长度\n",
        "sound_id = sound_id[:min_length]\n",
        "pay_type = pay_type[:min_length]\n",
        "durations = durations[:min_length]\n",
        "\n",
        "# 创建 DataFrame，包含 sound_id、pay_type 和 duration\n",
        "drama = pd.DataFrame({\n",
        "    'sound_id': sound_id,\n",
        "    'pay_type': pay_type,\n",
        "    'duration': [int(dur) for dur in durations]  # 将时长转换为整数\n",
        "})\n",
        "\n",
        "# 筛选付费集\n",
        "paid_drama = drama[drama['pay_type'] == '1']\n",
        "\n",
        "# 计算平均时长（秒 -> 分钟）\n",
        "average_duration_minutes = paid_drama['duration'].mean() / 60\n",
        "\n",
        "# 输出收费集的平均时长（分钟）\n",
        "print(\"收费集的平均时长为：%.2f 分钟\" % average_duration_minutes)\n"
      ],
      "metadata": {
        "colab": {
          "base_uri": "https://localhost:8080/"
        },
        "id": "b9jP4H_b4JJG",
        "outputId": "c006c337-9600-44ef-f42f-8cc2d10f17e2"
      },
      "execution_count": 75,
      "outputs": [
        {
          "output_type": "stream",
          "name": "stdout",
          "text": [
            "sound_id 长度: 26\n",
            "pay_type 长度: 27\n",
            "durations 长度: 26\n",
            "收费集的平均时长为：21307.96 分钟\n"
          ]
        }
      ]
    },
    {
      "cell_type": "markdown",
      "source": [
        "算平均时长"
      ],
      "metadata": {
        "id": "UlkDhfnO9alO"
      }
    },
    {
      "cell_type": "code",
      "source": [
        "import requests\n",
        "import re\n",
        "import pandas as pd\n",
        "\n",
        "# 输入猫耳剧集的 URL\n",
        "drama_id = 'https://www.missevan.com/mdrama/67153'\n",
        "\n",
        "# 构建 API URL\n",
        "drama_url = 'http://www.missevan.com/dramaapi/getdrama?drama_id='\n",
        "url = drama_url + drama_id.split(\"/\")[4]\n",
        "\n",
        "# 请求剧集数据\n",
        "drama_result = requests.get(url).text\n",
        "\n",
        "# 使用正则表达式提取 sound_id 和 pay_type\n",
        "pattern1 = re.compile(r'\"sound_id\":(\\d+),')  # 提取 sound_id\n",
        "pattern2 = re.compile(r'\"need_pay\":(\\d+),')  # 提取付费状态 need_pay\n",
        "sound_id = re.findall(pattern1, drama_result)\n",
        "pay_type = re.findall(pattern2, drama_result)\n",
        "\n",
        "# 去掉第一个非付费项\n",
        "pay_type = pay_type[1:]\n",
        "\n",
        "# 创建 DataFrame，筛选付费集\n",
        "drama = pd.DataFrame({'sound_id': sound_id, 'pay_type': pay_type})\n",
        "paid_sound_id = list(drama['sound_id'][drama['pay_type'] == '1'])\n",
        "\n",
        "# 定义获取音频时长的函数\n",
        "def get_audio_duration(sound_id):\n",
        "    # 构建 avinfo 请求 URL\n",
        "    audio_url = f\"https://www.missevan.com/sound/getsound?soundid={sound_id}&avinfo\"\n",
        "    response = requests.get(audio_url).json()\n",
        "\n",
        "    # 检查 'format' 字段是否存在\n",
        "    if 'format' in response:\n",
        "        duration = float(response['format'].get('duration', 0))\n",
        "        return duration / 60  # 返回分钟数\n",
        "    # 如果 'format' 字段不存在，检查 'streams' 字段\n",
        "    elif 'streams' in response:\n",
        "        stream_info = response['streams'][0]  # 通常时长信息在第一个流中\n",
        "        if 'duration' in stream_info:\n",
        "            duration = float(stream_info.get('duration', 0))\n",
        "            return duration / 60  # 返回分钟数\n",
        "        else:\n",
        "            raise KeyError(\"'streams' 字段中缺少时长信息\")\n",
        "    else:\n",
        "        raise KeyError(\"'format' 和 'streams' 字段都缺失\")\n",
        "\n",
        "# 获取每个收费音频的时长\n",
        "durations = []\n",
        "for sid in paid_sound_id:\n",
        "    try:\n",
        "        duration = get_audio_duration(sid)\n",
        "        durations.append(duration)\n",
        "        print(f\"音频 sound_id: {sid}, 时长: {duration:.2f} 分钟\")\n",
        "    except Exception as e:\n",
        "        print(f\"获取 sound_id {sid} 时长时出错: {e}\")\n",
        "\n",
        "# 计算收费集的平均时长\n",
        "if durations:\n",
        "    avg_duration = sum(durations) / len(durations)\n",
        "    print(f\"收费集的平均时长: {avg_duration:.2f} 分钟\")\n",
        "else:\n",
        "    print(\"没有获取到收费集的时长信息。\")\n"
      ],
      "metadata": {
        "colab": {
          "base_uri": "https://localhost:8080/"
        },
        "id": "uhGJ1tZPBkaq",
        "outputId": "546ed0c2-6b11-460f-f82e-a8974f42a56b"
      },
      "execution_count": 27,
      "outputs": [
        {
          "output_type": "stream",
          "name": "stdout",
          "text": [
            "获取 sound_id 8436631 时长时出错: \"'format' 和 'streams' 字段都缺失\"\n",
            "获取 sound_id 8473659 时长时出错: \"'format' 和 'streams' 字段都缺失\"\n",
            "获取 sound_id 8511196 时长时出错: \"'format' 和 'streams' 字段都缺失\"\n",
            "获取 sound_id 8510859 时长时出错: \"'format' 和 'streams' 字段都缺失\"\n",
            "获取 sound_id 8540011 时长时出错: \"'format' 和 'streams' 字段都缺失\"\n",
            "获取 sound_id 8572502 时长时出错: \"'format' 和 'streams' 字段都缺失\"\n",
            "获取 sound_id 8605095 时长时出错: \"'format' 和 'streams' 字段都缺失\"\n",
            "获取 sound_id 8604873 时长时出错: \"'format' 和 'streams' 字段都缺失\"\n",
            "获取 sound_id 8637984 时长时出错: \"'format' 和 'streams' 字段都缺失\"\n",
            "获取 sound_id 8667760 时长时出错: \"'format' 和 'streams' 字段都缺失\"\n",
            "获取 sound_id 8698993 时长时出错: \"'format' 和 'streams' 字段都缺失\"\n",
            "获取 sound_id 8703288 时长时出错: \"'format' 和 'streams' 字段都缺失\"\n",
            "获取 sound_id 8730391 时长时出错: \"'format' 和 'streams' 字段都缺失\"\n",
            "获取 sound_id 8762298 时长时出错: \"'format' 和 'streams' 字段都缺失\"\n",
            "获取 sound_id 8792924 时长时出错: \"'format' 和 'streams' 字段都缺失\"\n",
            "获取 sound_id 8796330 时长时出错: \"'format' 和 'streams' 字段都缺失\"\n",
            "没有获取到收费集的时长信息。\n"
          ]
        }
      ]
    }
  ]
}