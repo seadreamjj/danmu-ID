{
  "nbformat": 4,
  "nbformat_minor": 0,
  "metadata": {
    "colab": {
      "provenance": [],
      "authorship_tag": "ABX9TyMZij4dAfhfQq1NlB5WQ++R",
      "include_colab_link": true
    },
    "kernelspec": {
      "name": "python3",
      "display_name": "Python 3"
    },
    "language_info": {
      "name": "python"
    }
  },
  "cells": [
    {
      "cell_type": "markdown",
      "metadata": {
        "id": "view-in-github",
        "colab_type": "text"
      },
      "source": [
        "<a href=\"https://colab.research.google.com/github/seadreamjj/danmu-ID/blob/main/%E7%8C%AB%E8%80%B3%E5%BC%B9%E5%B9%95id%E8%AE%A1%E7%AE%97.ipynb\" target=\"_parent\"><img src=\"https://colab.research.google.com/assets/colab-badge.svg\" alt=\"Open In Colab\"/></a>"
      ]
    },
    {
      "cell_type": "markdown",
      "source": [
        "猫耳付费id抓取，正确版\n"
      ],
      "metadata": {
        "id": "AomV1aRflL8a"
      }
    },
    {
      "cell_type": "code",
      "source": [
        "import requests\n",
        "import json\n",
        "import re\n",
        "import pandas as pd\n",
        "\n",
        "from datetime import datetime\n",
        "import pytz\n",
        "\n",
        "# 获取本地时区的当前时间\n",
        "local_time = datetime.now(pytz.timezone('Europe/Stockholm'))  # 这里你可以指定你需要的时区\n",
        "\n",
        "# 打印本地时区时间\n",
        "formatted_time = local_time.strftime(\"%Y-%m-%d %H:%M:%S\")\n",
        "print(\"时间:\", formatted_time)\n",
        "\n",
        "\n",
        "# 输入剧集地址\n",
        "drama_id = 'https://www.missevan.com/mdrama/71233'\n",
        "\n",
        "# 构建 URL\n",
        "drama_url = 'http://www.missevan.com/dramaapi/getdrama?drama_id='\n",
        "url = drama_url + drama_id.split(\"/\")[4]\n",
        "\n",
        "# 请求剧集数据\n",
        "drama_result = requests.get(url).text\n",
        "\n",
        "#获取剧集名称\n",
        "drama_data = json.loads(drama_result)\n",
        "drama_name = drama_data[\"info\"][\"drama\"][\"name\"]\n",
        "\n",
        "# 使用正则表达式提取 sound_id 和 pay_type\n",
        "pattern1 = re.compile(r'\"sound_id\":(\\d+),')  # 提取 sound_id\n",
        "pattern2 = re.compile(r'\"need_pay\":(\\d+),')  # 提取付费状态 need_pay\n",
        "sound_id = re.findall(pattern1, drama_result)\n",
        "pay_type = re.findall(pattern2, drama_result)\n",
        "\n",
        "# 去掉第一个非付费项\n",
        "pay_type = pay_type[1:]\n",
        "\n",
        "# 创建 DataFrame\n",
        "drama = pd.DataFrame({'sound_id': sound_id, 'pay_type': pay_type})\n",
        "\n",
        "# 筛选付费 sound_id\n",
        "sound_id = list(drama['sound_id'][drama['pay_type'] == '1'])\n",
        "\n",
        "sound_url = 'http://www.missevan.com/sound/getdm?soundid='\n",
        "dm1 = pd.DataFrame()\n",
        "\n",
        "# 循环处理每个 sound_id，获取弹幕信息\n",
        "for i in range(len(sound_id)):\n",
        "    url = sound_url + sound_id[i]\n",
        "    sound_result = requests.get(url).text\n",
        "\n",
        "    # 提取弹幕内容\n",
        "    pattern3 = re.compile(r'p=\"(.+?)\"')\n",
        "    dm = re.findall(pattern3, sound_result)\n",
        "\n",
        "    # 将弹幕数据存储到 DataFrame\n",
        "    dm_temp = pd.DataFrame({'dm': dm})\n",
        "    dms_split = dm_temp['dm'].str.split('>', expand=True)[0]\n",
        "    uid = dms_split.str.split(',', expand=True)[6]\n",
        "    dm_temp['uid'] = uid\n",
        "\n",
        "    # 合并数据，使用 pd.concat() 替代 append()\n",
        "    if i == 0:\n",
        "        dm1 = dm_temp\n",
        "    else:\n",
        "        dm1 = pd.concat([dm1, dm_temp], ignore_index=True)\n",
        "\n",
        "# 输出不重复的 UID 数量和总弹幕数量\n",
        "\n",
        "print(f\"{drama_name} 实时付费ID为：{len(dm1['uid'].unique())}\")\n",
        "\n",
        "print(\"本剧实时付费弹幕数量为：\", len(dm1['uid']))\n"
      ],
      "metadata": {
        "colab": {
          "base_uri": "https://localhost:8080/"
        },
        "id": "ThOpc2GnjIPW",
        "outputId": "019497c8-32ad-4949-c01b-b615f2701ad8"
      },
      "execution_count": null,
      "outputs": [
        {
          "output_type": "stream",
          "name": "stdout",
          "text": [
            "时间: 2024-11-08 17:27:24\n",
            "City of Angels 全一季 实时付费ID为：5398\n",
            "本剧实时付费弹幕数量为： 108043\n"
          ]
        }
      ]
    },
    {
      "cell_type": "markdown",
      "source": [
        "# 新段落"
      ],
      "metadata": {
        "id": "X8XAbpTYoZJW"
      }
    },
    {
      "cell_type": "markdown",
      "source": [
        "漫播弹幕id抓取\n"
      ],
      "metadata": {
        "id": "Ud6kkaDum3RI"
      }
    },
    {
      "cell_type": "code",
      "source": [
        "import requests\n",
        "import re\n",
        "import json\n",
        "\n",
        "from datetime import datetime\n",
        "import pytz\n",
        "\n",
        "# 获取本地时区的当前时间\n",
        "local_time = datetime.now(pytz.timezone('Europe/Stockholm'))  # 这里你可以指定你需要的时区\n",
        "\n",
        "# 打印本地时区时间\n",
        "formatted_time = local_time.strftime(\"%Y-%m-%d %H:%M:%S\")\n",
        "print(\"系统本地时间:\", formatted_time)\n",
        "\n",
        "\n",
        "# 输入漫播剧集的任意一集链接（PC 或 APP 端）\n",
        "url = \"https://manbo.hongdoulive.com/Activecard/episode?id=2004479649836433539&radioDramaId=1987053485752844488&t=1730806200107&share_tpye=h5&fr=2\"\n",
        "\n",
        "# 判断链接类型\n",
        "if 'pc' in url:\n",
        "    detail_id = url.split('Id=')[1].split('&')[0]  # 提取 detail_id\n",
        "    new_url = \"https://manbo.hongdoulive.com/web_manbo/dramaSetDetail?dramaSetId=\" + detail_id\n",
        "    temp = 'data'\n",
        "else:\n",
        "    episode_id = url.split('id=')[1][:19]  # 提取 episode_id\n",
        "    radio_id = url.split('DramaId=')[1][:19]  # 提取 radio_id\n",
        "    new_url = \"https://manbo.hongrenshuo.com.cn/api/v207/radio/drama/set/h5/detail?radioDramaSetId=%s&radioDramaId=%s\" % (episode_id, radio_id)\n",
        "    temp = 'b'\n",
        "\n",
        "\n",
        "r= requests.get(new_url).text\n",
        "r= str(json.loads(r)[temp]['radioDramaResp']['setRespList'])\n",
        "# 请求新的 URL，获取剧集信息\n",
        "#response = requests.get(new_url).text\n",
        "\n",
        "# 解析 JSON 数据，提取付费集信息\n",
        "#r = json.loads(response)\n",
        "pattern1 = re.compile(\"'vipFree': (.+?),\")\n",
        "vipFree = re.findall(pattern1, r)\n",
        "num = len(vipFree)\n",
        "\n",
        "pattern2 = re.compile(\"'setId': (.+?),\")\n",
        "setId = re.findall(pattern2, r)\n",
        "\n",
        "# 找到所有免费集或付费集的 ID\n",
        "episodes = [setId[i] for i in range(num) if vipFree[i] == '1']\n",
        "\n",
        "# 如果没有免费集，查找付费集\n",
        "if len(episodes) == 0:\n",
        "    pattern3 = re.compile(\"'payType': (.+?),\")\n",
        "    payType = re.findall(pattern3, r)\n",
        "    episodes = [setId[i] for i in range(num) if payType[i] == '1']\n",
        "\n",
        "# 弹幕列表\n",
        "danmu = []\n",
        "\n",
        "# 获取每集的弹幕信息\n",
        "for each in episodes:\n",
        "    next_url = \"https://manbo.hongrenshuo.com.cn/api/v11/radio/drama/set/danmaku/h5/pull?radioDramaSetId=%s&startTime=0&endTime=10000000\" % each\n",
        "    print(next_url)\n",
        "    danmakuList = json.loads(requests.get(next_url).content)['b']['danmakuList']\n",
        "\n",
        "    # 提取每条弹幕的 eid\n",
        "    for j in danmakuList:\n",
        "        danmu.append(j['eid'])\n",
        "\n",
        "# 输出不重复的弹幕 ID 数量和总弹幕数量\n",
        "print(\"付费集ID数：%d\" % len(set(danmu)))\n",
        "print(\"付费集弹幕数：%d\" % len(danmu))\n"
      ],
      "metadata": {
        "colab": {
          "base_uri": "https://localhost:8080/"
        },
        "id": "XstZ4cYCmbJT",
        "outputId": "a41c428f-1ef7-4b8e-a457-6ec837e34a55"
      },
      "execution_count": null,
      "outputs": [
        {
          "output_type": "stream",
          "name": "stdout",
          "text": [
            "系统本地时间: 2024-11-08 10:55:37\n",
            "https://manbo.hongrenshuo.com.cn/api/v11/radio/drama/set/danmaku/h5/pull?radioDramaSetId=2012307159013916702&startTime=0&endTime=10000000\n",
            "付费集ID数：93\n",
            "付费集弹幕数：418\n"
          ]
        }
      ]
    },
    {
      "cell_type": "markdown",
      "source": [
        "试图计算猫耳收费剧集的平均时长\n"
      ],
      "metadata": {
        "id": "V0mZwHJe4DF9"
      }
    },
    {
      "cell_type": "code",
      "source": [
        "import requests\n",
        "import re\n",
        "import pandas as pd\n",
        "\n",
        "# 输入剧集地址\n",
        "drama_id = 'https://www.missevan.com/mdrama/77685'\n",
        "\n",
        "# 构建 URL\n",
        "drama_url = 'http://www.missevan.com/dramaapi/getdrama?drama_id='\n",
        "url = drama_url + drama_id.split(\"/\")[4]\n",
        "\n",
        "# 请求剧集数据\n",
        "drama_result = requests.get(url).text\n",
        "\n",
        "# 使用正则表达式提取 sound_id、pay_type 和 duration\n",
        "pattern1 = re.compile(r'\"sound_id\":(\\d+),')  # 提取 sound_id\n",
        "pattern2 = re.compile(r'\"need_pay\":(\\d+),')  # 提取付费状态 need_pay\n",
        "pattern3 = re.compile(r'\"duration\":(\\d+),')  # 提取时长 duration (秒)\n",
        "\n",
        "sound_id = re.findall(pattern1, drama_result)\n",
        "pay_type = re.findall(pattern2, drama_result)\n",
        "durations = re.findall(pattern3, drama_result)\n",
        "\n",
        "# 打印各列表的长度，检查是否一致\n",
        "print(\"sound_id 长度:\", len(sound_id))\n",
        "print(\"pay_type 长度:\", len(pay_type))\n",
        "print(\"durations 长度:\", len(durations))\n",
        "\n",
        "# 去掉第一个非付费项（通常第一个为非付费）\n",
        "pay_type = pay_type[1:]\n",
        "durations = durations[1:]\n",
        "\n",
        "# 确保长度一致后才能继续创建 DataFrame\n",
        "min_length = min(len(sound_id), len(pay_type), len(durations))\n",
        "\n",
        "# 截断为相同的长度\n",
        "sound_id = sound_id[:min_length]\n",
        "pay_type = pay_type[:min_length]\n",
        "durations = durations[:min_length]\n",
        "\n",
        "# 创建 DataFrame，包含 sound_id、pay_type 和 duration\n",
        "drama = pd.DataFrame({\n",
        "    'sound_id': sound_id,\n",
        "    'pay_type': pay_type,\n",
        "    'duration': [int(dur) for dur in durations]  # 将时长转换为整数\n",
        "})\n",
        "\n",
        "# 筛选付费集\n",
        "paid_drama = drama[drama['pay_type'] == '1']\n",
        "\n",
        "# 计算平均时长（秒 -> 分钟）\n",
        "average_duration_minutes = paid_drama['duration'].mean() / 60\n",
        "\n",
        "# 输出收费集的平均时长（分钟）\n",
        "print(\"收费集的平均时长为：%.2f 分钟\" % average_duration_minutes)\n"
      ],
      "metadata": {
        "colab": {
          "base_uri": "https://localhost:8080/"
        },
        "id": "b9jP4H_b4JJG",
        "outputId": "c006c337-9600-44ef-f42f-8cc2d10f17e2"
      },
      "execution_count": null,
      "outputs": [
        {
          "output_type": "stream",
          "name": "stdout",
          "text": [
            "sound_id 长度: 26\n",
            "pay_type 长度: 27\n",
            "durations 长度: 26\n",
            "收费集的平均时长为：21307.96 分钟\n"
          ]
        }
      ]
    },
    {
      "cell_type": "markdown",
      "source": [
        "算平均时长"
      ],
      "metadata": {
        "id": "UlkDhfnO9alO"
      }
    },
    {
      "cell_type": "code",
      "source": [
        "import requests\n",
        "import re\n",
        "import pandas as pd\n",
        "\n",
        "# 输入猫耳剧集的 URL\n",
        "drama_id = 'https://www.missevan.com/mdrama/67153'\n",
        "\n",
        "# 构建 API URL\n",
        "drama_url = 'http://www.missevan.com/dramaapi/getdrama?drama_id='\n",
        "url = drama_url + drama_id.split(\"/\")[4]\n",
        "\n",
        "# 请求剧集数据\n",
        "drama_result = requests.get(url).text\n",
        "\n",
        "# 使用正则表达式提取 sound_id 和 pay_type\n",
        "pattern1 = re.compile(r'\"sound_id\":(\\d+),')  # 提取 sound_id\n",
        "pattern2 = re.compile(r'\"need_pay\":(\\d+),')  # 提取付费状态 need_pay\n",
        "sound_id = re.findall(pattern1, drama_result)\n",
        "pay_type = re.findall(pattern2, drama_result)\n",
        "\n",
        "# 去掉第一个非付费项\n",
        "pay_type = pay_type[1:]\n",
        "\n",
        "# 创建 DataFrame，筛选付费集\n",
        "drama = pd.DataFrame({'sound_id': sound_id, 'pay_type': pay_type})\n",
        "paid_sound_id = list(drama['sound_id'][drama['pay_type'] == '1'])\n",
        "\n",
        "# 定义获取音频时长的函数\n",
        "def get_audio_duration(sound_id):\n",
        "    # 构建 avinfo 请求 URL\n",
        "    audio_url = f\"https://www.missevan.com/sound/getsound?soundid={sound_id}&avinfo\"\n",
        "    response = requests.get(audio_url).json()\n",
        "\n",
        "    # 检查 'format' 字段是否存在\n",
        "    if 'format' in response:\n",
        "        duration = float(response['format'].get('duration', 0))\n",
        "        return duration / 60  # 返回分钟数\n",
        "    # 如果 'format' 字段不存在，检查 'streams' 字段\n",
        "    elif 'streams' in response:\n",
        "        stream_info = response['streams'][0]  # 通常时长信息在第一个流中\n",
        "        if 'duration' in stream_info:\n",
        "            duration = float(stream_info.get('duration', 0))\n",
        "            return duration / 60  # 返回分钟数\n",
        "        else:\n",
        "            raise KeyError(\"'streams' 字段中缺少时长信息\")\n",
        "    else:\n",
        "        raise KeyError(\"'format' 和 'streams' 字段都缺失\")\n",
        "\n",
        "# 获取每个收费音频的时长\n",
        "durations = []\n",
        "for sid in paid_sound_id:\n",
        "    try:\n",
        "        duration = get_audio_duration(sid)\n",
        "        durations.append(duration)\n",
        "        print(f\"音频 sound_id: {sid}, 时长: {duration:.2f} 分钟\")\n",
        "    except Exception as e:\n",
        "        print(f\"获取 sound_id {sid} 时长时出错: {e}\")\n",
        "\n",
        "# 计算收费集的平均时长\n",
        "if durations:\n",
        "    avg_duration = sum(durations) / len(durations)\n",
        "    print(f\"收费集的平均时长: {avg_duration:.2f} 分钟\")\n",
        "else:\n",
        "    print(\"没有获取到收费集的时长信息。\")\n"
      ],
      "metadata": {
        "colab": {
          "base_uri": "https://localhost:8080/"
        },
        "id": "uhGJ1tZPBkaq",
        "outputId": "546ed0c2-6b11-460f-f82e-a8974f42a56b"
      },
      "execution_count": null,
      "outputs": [
        {
          "output_type": "stream",
          "name": "stdout",
          "text": [
            "获取 sound_id 8436631 时长时出错: \"'format' 和 'streams' 字段都缺失\"\n",
            "获取 sound_id 8473659 时长时出错: \"'format' 和 'streams' 字段都缺失\"\n",
            "获取 sound_id 8511196 时长时出错: \"'format' 和 'streams' 字段都缺失\"\n",
            "获取 sound_id 8510859 时长时出错: \"'format' 和 'streams' 字段都缺失\"\n",
            "获取 sound_id 8540011 时长时出错: \"'format' 和 'streams' 字段都缺失\"\n",
            "获取 sound_id 8572502 时长时出错: \"'format' 和 'streams' 字段都缺失\"\n",
            "获取 sound_id 8605095 时长时出错: \"'format' 和 'streams' 字段都缺失\"\n",
            "获取 sound_id 8604873 时长时出错: \"'format' 和 'streams' 字段都缺失\"\n",
            "获取 sound_id 8637984 时长时出错: \"'format' 和 'streams' 字段都缺失\"\n",
            "获取 sound_id 8667760 时长时出错: \"'format' 和 'streams' 字段都缺失\"\n",
            "获取 sound_id 8698993 时长时出错: \"'format' 和 'streams' 字段都缺失\"\n",
            "获取 sound_id 8703288 时长时出错: \"'format' 和 'streams' 字段都缺失\"\n",
            "获取 sound_id 8730391 时长时出错: \"'format' 和 'streams' 字段都缺失\"\n",
            "获取 sound_id 8762298 时长时出错: \"'format' 和 'streams' 字段都缺失\"\n",
            "获取 sound_id 8792924 时长时出错: \"'format' 和 'streams' 字段都缺失\"\n",
            "获取 sound_id 8796330 时长时出错: \"'format' 和 'streams' 字段都缺失\"\n",
            "没有获取到收费集的时长信息。\n"
          ]
        }
      ]
    },
    {
      "cell_type": "markdown",
      "source": [
        "《台风眼》第二季从第二集开始计算ID"
      ],
      "metadata": {
        "id": "MC_90bvDWTrH"
      }
    },
    {
      "cell_type": "code",
      "source": [
        "import requests\n",
        "import re\n",
        "import pandas as pd\n",
        "\n",
        "# 输入剧集地址\n",
        "drama_id = 'https://www.missevan.com/mdrama/68664'\n",
        "\n",
        "# 构建 URL\n",
        "drama_url = 'http://www.missevan.com/dramaapi/getdrama?drama_id='\n",
        "url = drama_url + drama_id.split(\"/\")[4]\n",
        "\n",
        "# 请求剧集数据\n",
        "drama_result = requests.get(url).text\n",
        "\n",
        "# 使用正则表达式提取 sound_id 和 pay_type\n",
        "pattern1 = re.compile(r'\"sound_id\":(\\d+),')  # 提取 sound_id\n",
        "pattern2 = re.compile(r'\"need_pay\":(\\d+),')  # 提取付费状态 need_pay\n",
        "sound_id = re.findall(pattern1, drama_result)\n",
        "pay_type = re.findall(pattern2, drama_result)\n",
        "\n",
        "# 去掉第一个非付费项\n",
        "pay_type = pay_type[1:]\n",
        "\n",
        "# 创建 DataFrame\n",
        "drama = pd.DataFrame({'sound_id': sound_id, 'pay_type': pay_type})\n",
        "\n",
        "# 筛选付费 sound_id\n",
        "sound_id = list(drama['sound_id'][drama['pay_type'] == '1'])\n",
        "\n",
        "# 从第二个 sound_id 开始处理\n",
        "sound_id = sound_id[1:]  # 跳过第一个（即第一集）\n",
        "\n",
        "sound_url = 'http://www.missevan.com/sound/getdm?soundid='\n",
        "dm1 = pd.DataFrame()\n",
        "\n",
        "# 循环处理每个 sound_id，获取弹幕信息\n",
        "for i in range(len(sound_id)):\n",
        "    url = sound_url + sound_id[i]\n",
        "    sound_result = requests.get(url).text\n",
        "\n",
        "    # 提取弹幕内容\n",
        "    pattern3 = re.compile(r'p=\"(.+?)\"')\n",
        "    dm = re.findall(pattern3, sound_result)\n",
        "\n",
        "    # 将弹幕数据存储到 DataFrame\n",
        "    dm_temp = pd.DataFrame({'dm': dm})\n",
        "    dms_split = dm_temp['dm'].str.split('>', expand=True)[0]\n",
        "    uid = dms_split.str.split(',', expand=True)[6]\n",
        "    dm_temp['uid'] = uid\n",
        "\n",
        "    # 合并数据，使用 pd.concat() 替代 append()\n",
        "    if i == 0:\n",
        "        dm1 = dm_temp\n",
        "    else:\n",
        "        dm1 = pd.concat([dm1, dm_temp], ignore_index=True)\n",
        "\n",
        "# 输出不重复的 UID 数量和总弹幕数量\n",
        "print(\"台风眼2去除第一集数据后实时付费ID为：\", len(dm1['uid'].unique()))\n",
        "print(\"本剧实时付费弹幕数量为：\", len(dm1['uid']))\n"
      ],
      "metadata": {
        "colab": {
          "base_uri": "https://localhost:8080/"
        },
        "id": "opKqhH5jWTKe",
        "outputId": "201648c0-91b6-43ea-b4bf-1eadadf7b4f8"
      },
      "execution_count": null,
      "outputs": [
        {
          "output_type": "stream",
          "name": "stdout",
          "text": [
            "台风眼2去除第一集数据后实时付费ID为： 4813\n",
            "本剧实时付费弹幕数量为： 141938\n"
          ]
        }
      ]
    },
    {
      "cell_type": "markdown",
      "source": [
        "按时间过滤"
      ],
      "metadata": {
        "id": "ydjtL5HEspxt"
      }
    },
    {
      "cell_type": "code",
      "source": [
        "import requests\n",
        "import re\n",
        "import pandas as pd\n",
        "from datetime import datetime, timezone, timedelta\n",
        "\n",
        "# 输入剧集地址\n",
        "drama_id = 'https://www.missevan.com/mdrama/68664'\n",
        "\n",
        "# 构建 URL\n",
        "drama_url = 'http://www.missevan.com/dramaapi/getdrama?drama_id='\n",
        "url = drama_url + drama_id.split(\"/\")[4]\n",
        "\n",
        "# 请求剧集数据\n",
        "drama_result = requests.get(url).text\n",
        "\n",
        "# 使用正则表达式提取 sound_id 和 pay_type\n",
        "pattern1 = re.compile(r'\"sound_id\":(\\d+),')  # 提取 sound_id\n",
        "pattern2 = re.compile(r'\"need_pay\":(\\d+),')  # 提取付费状态 need_pay\n",
        "sound_id = re.findall(pattern1, drama_result)\n",
        "pay_type = re.findall(pattern2, drama_result)\n",
        "\n",
        "# 去掉第一个非付费项\n",
        "pay_type = pay_type[1:]\n",
        "\n",
        "# 创建 DataFrame\n",
        "drama = pd.DataFrame({'sound_id': sound_id, 'pay_type': pay_type})\n",
        "\n",
        "# 筛选付费 sound_id\n",
        "sound_id = list(drama['sound_id'][drama['pay_type'] == '1'])\n",
        "\n",
        "sound_url = 'http://www.missevan.com/sound/getdm?soundid='\n",
        "dm1 = pd.DataFrame()\n",
        "\n",
        "# 循环处理每个 sound_id，获取弹幕信息\n",
        "for i in range(len(sound_id)):\n",
        "    url = sound_url + sound_id[i]\n",
        "    sound_result = requests.get(url).text\n",
        "\n",
        "    # 提取弹幕内容\n",
        "    pattern3 = re.compile(r'p=\"(.+?)\"')\n",
        "    dm = re.findall(pattern3, sound_result)\n",
        "\n",
        "    # 将弹幕数据存储到 DataFrame\n",
        "    dm_temp = pd.DataFrame({'dm': dm})\n",
        "    dms_split = dm_temp['dm'].str.split('>', expand=True)[0]\n",
        "    uid = dms_split.str.split(',', expand=True)[6]\n",
        "    send_time = dms_split.str.split(',', expand=True)[4]  # 获取发送时间（时间戳）\n",
        "\n",
        "    # 添加用户 ID 和发送时间到 DataFrame\n",
        "    dm_temp['uid'] = uid\n",
        "    dm_temp['send_time'] = send_time\n",
        "\n",
        "    # 合并数据，使用 pd.concat() 替代 append()\n",
        "    if i == 0:\n",
        "        dm1 = dm_temp\n",
        "    else:\n",
        "        dm1 = pd.concat([dm1, dm_temp], ignore_index=True)\n",
        "\n",
        "# 设置时间阈值（2024年7月3日13点12分）\n",
        "threshold_time = datetime(2024, 7, 3, 13, 12, 0, tzinfo=timezone.utc).timestamp()\n",
        "\n",
        "# 提取在指定时间之后的 uid\n",
        "valid_uids = set()\n",
        "\n",
        "for index, row in dm1.iterrows():\n",
        "    uid = row['uid']\n",
        "    timestamp = int(row['send_time'])\n",
        "\n",
        "    # 检查发送时间是否在阈值之后\n",
        "    if timestamp >= threshold_time:\n",
        "        valid_uids.add(uid)\n",
        "\n",
        "# 输出去重后的用户 ID 数量\n",
        "print(\"台风眼2在2024年7月3日13点12分以后的弹幕用户 ID 去重数量:\", len(valid_uids))"
      ],
      "metadata": {
        "id": "Wyzkj-DW5ohr",
        "colab": {
          "base_uri": "https://localhost:8080/"
        },
        "outputId": "4fc16747-79c7-4d8d-c8c6-02eabf9493b5"
      },
      "execution_count": null,
      "outputs": [
        {
          "output_type": "stream",
          "name": "stdout",
          "text": [
            "台风眼2在2024年7月3日13点12分以后的弹幕用户 ID 去重数量: 4838\n"
          ]
        }
      ]
    },
    {
      "cell_type": "code",
      "source": [
        "试试漫播有声剧"
      ],
      "metadata": {
        "id": "29K2UB4blSRB"
      },
      "execution_count": null,
      "outputs": []
    },
    {
      "cell_type": "code",
      "source": [
        "from datetime import datetime\n",
        "import requests\n",
        "import re\n",
        "import json\n",
        "\n",
        "# 获取当前时间\n",
        "current_time = datetime.now()\n",
        "\n",
        "# 打印当前时间\n",
        "print(\"当前时间:\", current_time)\n",
        "\n",
        "\n",
        "# 输入漫播剧集的任意一集链接（PC 或 APP 端）\n",
        "url = \"https://www.kilamanbo.com/manbo/pc/detail?id=1944764730950287431&collectId=1966909818551664738\"\n",
        "\n",
        "# 判断是否为 PC 端链接\n",
        "if 'pc' in url:\n",
        "    detail_id = url.split('Id=')[1].split('&')[0]  # 提取 detail_id\n",
        "    new_url = \"https://manbo.hongdoulive.com/web_manbo/dramaSetDetail?dramaSetId=\" + detail_id\n",
        "    temp = 'data'\n",
        "else:\n",
        "    try:\n",
        "        # 提取 APP 端的 episode_id 和 radio_id\n",
        "        episode_id = re.search(r'id=(\\d+)', url).group(1)  # 提取 episode_id\n",
        "        radio_id = re.search(r'radioDramaId=(\\d+)', url).group(1)  # 提取 radioDramaId\n",
        "        new_url = \"https://manbo.hongrenshuo.com.cn/api/v207/radio/drama/set/h5/detail?radioDramaSetId=%s&radioDramaId=%s\" % (episode_id, radio_id)\n",
        "        temp = 'b'\n",
        "    except Exception as e:\n",
        "        print(f\"APP端链接解析错误: {e}\")\n",
        "\n",
        "r= requests.get(new_url).text\n",
        "r= str(json.loads(r)[temp]['radioDramaResp']['setRespList'])\n",
        "# 请求新的 URL，获取剧集信息\n",
        "#response = requests.get(new_url).text\n",
        "\n",
        "# 解析 JSON 数据，提取付费集信息\n",
        "#r = json.loads(response)\n",
        "# 使用正则表达式提取 vipFree, payType, setId 和 price\n",
        "pattern_vipFree = re.compile(\"'vipFree': (.+?),\")\n",
        "pattern_payType = re.compile(\"'payType': (.+?),\")\n",
        "pattern_setId = re.compile(\"'setId': (.+?),\")\n",
        "pattern_price = re.compile(\"'price': (.+?),\")\n",
        "\n",
        "vipFree = re.findall(pattern_vipFree, r)\n",
        "payType = re.findall(pattern_payType, r)\n",
        "setId = re.findall(pattern_setId, r)\n",
        "price = re.findall(pattern_price, r)\n",
        "\n",
        "# 过滤掉非有效数据项，确保长度一致\n",
        "num = len(vipFree)\n",
        "\n",
        "\n",
        "# 找到所有免费集或付费集的 ID\n",
        "episodes = [setId[i] for i in range(num) if vipFree[i] == '1']\n",
        "\n",
        "# 如果没有免费集，查找付费集\n",
        "if len(episodes) == 0:\n",
        "    pattern3 = re.compile(\"'payType': (.+?),\")\n",
        "    payType = re.findall(pattern3, r)\n",
        "    episodes = [setId[i] for i in range(num) if payType[i] == '1']\n",
        "\n",
        "#如果都没有，检查是否按集付费\n",
        "if len(episodes) == 0:\n",
        "    episodes = [setId[i] for i in range(num) if float(price[i]) > 0]\n",
        "\n",
        "# 打印符合条件的集数 ID\n",
        "print(f\"符合条件的剧集ID: {episodes}\")\n",
        "# 弹幕列表\n",
        "danmu = []\n",
        "\n",
        "# 获取每集的弹幕信息\n",
        "for each in episodes:\n",
        "    next_url = \"https://manbo.hongrenshuo.com.cn/api/v11/radio/drama/set/danmaku/h5/pull?radioDramaSetId=%s&startTime=0&endTime=10000000\" % each\n",
        "    print(next_url)\n",
        "    danmakuList = json.loads(requests.get(next_url).content)['b']['danmakuList']\n",
        "\n",
        "    # 提取每条弹幕的 eid\n",
        "    for j in danmakuList:\n",
        "        danmu.append(j['eid'])\n",
        "\n",
        "# 输出不重复的弹幕 ID 数量和总弹幕数量\n",
        "print(\"付费集ID数：%d\" % len(set(danmu)))\n",
        "print(\"付费集弹幕数：%d\" % len(danmu))\n"
      ],
      "metadata": {
        "colab": {
          "base_uri": "https://localhost:8080/"
        },
        "id": "JV5aitIZlU66",
        "outputId": "c7b6f093-d892-434c-f495-6d714f83f198"
      },
      "execution_count": null,
      "outputs": [
        {
          "output_type": "stream",
          "name": "stdout",
          "text": [
            "当前时间: 2024-10-28 21:19:46.709605\n",
            "符合条件的剧集ID: ['1972503008432357537', '1975132550619725955', '1977715801649578080', '1980245223854309438', '1982901424903684266', '1985499098433716288', '1988100293836931134', '1990677854035116060', '1993256900291985543', '1995885304313020545', '1998492993706786915', '2001089404516434155', '2003691166855332006', '2006282668517359693', '1992369426904645730', '1997636186385940513', '2002920482218704958', '2008131935406129286', '1981171382012084546', '1981171390602019076', '2008889163910217945']\n",
            "https://manbo.hongrenshuo.com.cn/api/v11/radio/drama/set/danmaku/h5/pull?radioDramaSetId=1972503008432357537&startTime=0&endTime=10000000\n",
            "https://manbo.hongrenshuo.com.cn/api/v11/radio/drama/set/danmaku/h5/pull?radioDramaSetId=1975132550619725955&startTime=0&endTime=10000000\n",
            "https://manbo.hongrenshuo.com.cn/api/v11/radio/drama/set/danmaku/h5/pull?radioDramaSetId=1977715801649578080&startTime=0&endTime=10000000\n",
            "https://manbo.hongrenshuo.com.cn/api/v11/radio/drama/set/danmaku/h5/pull?radioDramaSetId=1980245223854309438&startTime=0&endTime=10000000\n",
            "https://manbo.hongrenshuo.com.cn/api/v11/radio/drama/set/danmaku/h5/pull?radioDramaSetId=1982901424903684266&startTime=0&endTime=10000000\n",
            "https://manbo.hongrenshuo.com.cn/api/v11/radio/drama/set/danmaku/h5/pull?radioDramaSetId=1985499098433716288&startTime=0&endTime=10000000\n",
            "https://manbo.hongrenshuo.com.cn/api/v11/radio/drama/set/danmaku/h5/pull?radioDramaSetId=1988100293836931134&startTime=0&endTime=10000000\n",
            "https://manbo.hongrenshuo.com.cn/api/v11/radio/drama/set/danmaku/h5/pull?radioDramaSetId=1990677854035116060&startTime=0&endTime=10000000\n",
            "https://manbo.hongrenshuo.com.cn/api/v11/radio/drama/set/danmaku/h5/pull?radioDramaSetId=1993256900291985543&startTime=0&endTime=10000000\n",
            "https://manbo.hongrenshuo.com.cn/api/v11/radio/drama/set/danmaku/h5/pull?radioDramaSetId=1995885304313020545&startTime=0&endTime=10000000\n",
            "https://manbo.hongrenshuo.com.cn/api/v11/radio/drama/set/danmaku/h5/pull?radioDramaSetId=1998492993706786915&startTime=0&endTime=10000000\n",
            "https://manbo.hongrenshuo.com.cn/api/v11/radio/drama/set/danmaku/h5/pull?radioDramaSetId=2001089404516434155&startTime=0&endTime=10000000\n",
            "https://manbo.hongrenshuo.com.cn/api/v11/radio/drama/set/danmaku/h5/pull?radioDramaSetId=2003691166855332006&startTime=0&endTime=10000000\n",
            "https://manbo.hongrenshuo.com.cn/api/v11/radio/drama/set/danmaku/h5/pull?radioDramaSetId=2006282668517359693&startTime=0&endTime=10000000\n",
            "https://manbo.hongrenshuo.com.cn/api/v11/radio/drama/set/danmaku/h5/pull?radioDramaSetId=1992369426904645730&startTime=0&endTime=10000000\n",
            "https://manbo.hongrenshuo.com.cn/api/v11/radio/drama/set/danmaku/h5/pull?radioDramaSetId=1997636186385940513&startTime=0&endTime=10000000\n",
            "https://manbo.hongrenshuo.com.cn/api/v11/radio/drama/set/danmaku/h5/pull?radioDramaSetId=2002920482218704958&startTime=0&endTime=10000000\n",
            "https://manbo.hongrenshuo.com.cn/api/v11/radio/drama/set/danmaku/h5/pull?radioDramaSetId=2008131935406129286&startTime=0&endTime=10000000\n",
            "https://manbo.hongrenshuo.com.cn/api/v11/radio/drama/set/danmaku/h5/pull?radioDramaSetId=1981171382012084546&startTime=0&endTime=10000000\n",
            "https://manbo.hongrenshuo.com.cn/api/v11/radio/drama/set/danmaku/h5/pull?radioDramaSetId=1981171390602019076&startTime=0&endTime=10000000\n",
            "https://manbo.hongrenshuo.com.cn/api/v11/radio/drama/set/danmaku/h5/pull?radioDramaSetId=2008889163910217945&startTime=0&endTime=10000000\n",
            "付费集ID数：9342\n",
            "付费集弹幕数：262973\n"
          ]
        }
      ]
    },
    {
      "cell_type": "code",
      "source": [
        "# 输入漫播剧集的任意一集链接（PC 或 APP 端）\n",
        "url = \"https://www.kilamanbo.com/manbo/pc/detail?id=1966611752116289550&collectId=1972913680320299077\"\n",
        "\n",
        "# 判断是否为 PC 端链接\n",
        "if 'pc' in url:\n",
        "    detail_id = url.split('Id=')[1].split('&')[0]  # 提取 detail_id\n",
        "    new_url = \"https://manbo.hongdoulive.com/web_manbo/dramaSetDetail?dramaSetId=\" + detail_id\n",
        "    temp = 'data'\n",
        "else:\n",
        "    try:\n",
        "        # 提取 APP 端的 episode_id 和 radio_id\n",
        "        episode_id = re.search(r'id=(\\d+)', url).group(1)  # 提取 episode_id\n",
        "        radio_id = re.search(r'radioDramaId=(\\d+)', url).group(1)  # 提取 radioDramaId\n",
        "        new_url = \"https://manbo.hongrenshuo.com.cn/api/v207/radio/drama/set/h5/detail?radioDramaSetId=%s&radioDramaId=%s\" % (episode_id, radio_id)\n",
        "        temp = 'b'\n",
        "    except Exception as e:\n",
        "        print(f\"APP端链接解析错误: {e}\")\n",
        "\n",
        "# 打印结果\n",
        "print(f\"生成的 URL: {new_url}\")\n",
        "print(f\"提取结果: {temp}\")\n"
      ],
      "metadata": {
        "colab": {
          "base_uri": "https://localhost:8080/"
        },
        "id": "vYUiXSDNng8k",
        "outputId": "4371c91a-a459-471a-a999-1976b700fc4b"
      },
      "execution_count": null,
      "outputs": [
        {
          "output_type": "stream",
          "name": "stdout",
          "text": [
            "生成的 URL: https://manbo.hongdoulive.com/web_manbo/dramaSetDetail?dramaSetId=1972913680320299077\n",
            "提取结果: data\n"
          ]
        }
      ]
    },
    {
      "cell_type": "markdown",
      "source": [
        "把漫播弹幕数据分类输出"
      ],
      "metadata": {
        "id": "YwUleOif9iUO"
      }
    },
    {
      "cell_type": "code",
      "source": [
        "import requests\n",
        "import re\n",
        "import json\n",
        "\n",
        "# 输入漫播剧集的任意一集链接（PC 或 APP 端）\n",
        "url = \"https://www.kilamanbo.com/manbo/pc/detail?id=1944764730950287431&collectId=1966909818551664738\"\n",
        "\n",
        "# 判断链接类型\n",
        "if 'pc' in url:\n",
        "    detail_id = url.split('Id=')[1].split('&')[0]  # 提取 detail_id\n",
        "    new_url = \"https://manbo.hongdoulive.com/web_manbo/dramaSetDetail?dramaSetId=\" + detail_id\n",
        "    temp = 'data'\n",
        "else:\n",
        "    episode_id = url.split('id=')[1][:19]  # 提取 episode_id\n",
        "    radio_id = url.split('DramaId=')[1][:19]  # 提取 radio_id\n",
        "    new_url = \"https://manbo.hongrenshuo.com.cn/api/v207/radio/drama/set/h5/detail?radioDramaSetId=%s&radioDramaId=%s\" % (episode_id, radio_id)\n",
        "    temp = 'b'\n",
        "\n",
        "r = requests.get(new_url).text\n",
        "r = str(json.loads(r)[temp]['radioDramaResp']['setRespList'])\n",
        "\n",
        "# 解析付费集信息\n",
        "pattern1 = re.compile(\"'vipFree': (.+?),\")\n",
        "vipFree = re.findall(pattern1, r)\n",
        "num = len(vipFree)\n",
        "\n",
        "pattern2 = re.compile(\"'setId': (.+?),\")\n",
        "setId = re.findall(pattern2, r)\n",
        "\n",
        "# 找到所有免费集或付费集的 ID\n",
        "episodes = [setId[i] for i in range(num) if vipFree[i] == '1']\n",
        "\n",
        "# 如果没有免费集，查找付费集\n",
        "if len(episodes) == 0:\n",
        "    pattern3 = re.compile(\"'payType': (.+?),\")\n",
        "    payType = re.findall(pattern3, r)\n",
        "    episodes = [setId[i] for i in range(num) if payType[i] == '1']\n",
        "\n",
        "# 弹幕分类列表\n",
        "danmu_source_1 = []  # 弹幕数据\n",
        "danmu_source_2 = []  # 评论数据\n",
        "danmu_source_3 = []  # +1 数据\n",
        "danmu_source_4 = []\n",
        "danmu_source_5 = []\n",
        "danmu_source_6 = []\n",
        "\n",
        "# 获取每集的弹幕信息\n",
        "for each in episodes:\n",
        "    next_url = \"https://manbo.hongrenshuo.com.cn/api/v11/radio/drama/set/danmaku/h5/pull?radioDramaSetId=%s&startTime=0&endTime=10000000\" % each\n",
        "    print(next_url)\n",
        "    danmakuList = json.loads(requests.get(next_url).content)['b']['danmakuList']\n",
        "\n",
        "    # 根据 danmakuSource 分类弹幕\n",
        "    for j in danmakuList:\n",
        "        danmaku_source = j.get('danmakuSource')\n",
        "        eid = j.get('eid')\n",
        "\n",
        "        if danmaku_source == 1:\n",
        "            danmu_source_1.append(eid)\n",
        "        elif danmaku_source == 2:\n",
        "            danmu_source_2.append(eid)\n",
        "        elif danmaku_source == 3:\n",
        "            danmu_source_3.append(eid)\n",
        "        elif danmaku_source == 4:\n",
        "            danmu_source_4.append(eid)\n",
        "        elif danmaku_source == 5:\n",
        "            danmu_source_5.append(eid)\n",
        "        elif danmaku_source == 6:\n",
        "            danmu_source_6.append(eid)\n",
        "\n",
        "# 输出每类弹幕的 ID 数量和总数量（针对付费集）\n",
        "print(\"付费集弹幕ID数 (danmakuSource = 1)：%d\" % len(set(danmu_source_1)))\n",
        "print(\"付费集评论ID数 (danmakuSource = 2)：%d\" % len(set(danmu_source_2)))\n",
        "print(\"付费集+1 ID数量 (danmakuSource = 3)：%d\" % len(set(danmu_source_3)))\n",
        "print(\" ID数量 (danmakuSource = 4)：%d\" % len(set(danmu_source_4)))\n",
        "print(\" ID数量 (danmakuSource = 5)：%d\" % len(set(danmu_source_5)))\n",
        "print(\" ID数量 (danmakuSource = 6)：%d\" % len(set(danmu_source_6)))\n",
        "\n",
        "\n",
        "print(\"付费集发弹幕产生的弹幕总数 (danmakuSource = 1)：%d\" % len(danmu_source_1))\n",
        "print(\"付费集评论产生的弹幕总数 (danmakuSource = 2)：%d\" % len(danmu_source_2))\n",
        "print(\"付费集+1 产生的弹幕总数 (danmakuSource = 3)：%d\" % len(danmu_source_3))\n",
        "print(\"source4弹幕总数 (danmakuSource = 4)：%d\" % len(danmu_source_4))\n",
        "print(\"source5弹幕总数 (danmakuSource = 5)：%d\" % len(danmu_source_5))\n",
        "print(\"source6弹幕总数 (danmakuSource = 6)：%d\" % len(danmu_source_6))\n",
        "\n"
      ],
      "metadata": {
        "colab": {
          "base_uri": "https://localhost:8080/"
        },
        "id": "IeFWrDb59ly2",
        "outputId": "9298e56a-a9b9-4320-a6ef-72aa983be906"
      },
      "execution_count": null,
      "outputs": [
        {
          "output_type": "stream",
          "name": "stdout",
          "text": [
            "https://manbo.hongrenshuo.com.cn/api/v11/radio/drama/set/danmaku/h5/pull?radioDramaSetId=1972503008432357537&startTime=0&endTime=10000000\n",
            "https://manbo.hongrenshuo.com.cn/api/v11/radio/drama/set/danmaku/h5/pull?radioDramaSetId=1975132550619725955&startTime=0&endTime=10000000\n",
            "https://manbo.hongrenshuo.com.cn/api/v11/radio/drama/set/danmaku/h5/pull?radioDramaSetId=1977715801649578080&startTime=0&endTime=10000000\n",
            "https://manbo.hongrenshuo.com.cn/api/v11/radio/drama/set/danmaku/h5/pull?radioDramaSetId=1980245223854309438&startTime=0&endTime=10000000\n",
            "https://manbo.hongrenshuo.com.cn/api/v11/radio/drama/set/danmaku/h5/pull?radioDramaSetId=1982901424903684266&startTime=0&endTime=10000000\n",
            "https://manbo.hongrenshuo.com.cn/api/v11/radio/drama/set/danmaku/h5/pull?radioDramaSetId=1985499098433716288&startTime=0&endTime=10000000\n",
            "https://manbo.hongrenshuo.com.cn/api/v11/radio/drama/set/danmaku/h5/pull?radioDramaSetId=1988100293836931134&startTime=0&endTime=10000000\n",
            "https://manbo.hongrenshuo.com.cn/api/v11/radio/drama/set/danmaku/h5/pull?radioDramaSetId=1990677854035116060&startTime=0&endTime=10000000\n",
            "https://manbo.hongrenshuo.com.cn/api/v11/radio/drama/set/danmaku/h5/pull?radioDramaSetId=1993256900291985543&startTime=0&endTime=10000000\n",
            "https://manbo.hongrenshuo.com.cn/api/v11/radio/drama/set/danmaku/h5/pull?radioDramaSetId=1995885304313020545&startTime=0&endTime=10000000\n",
            "https://manbo.hongrenshuo.com.cn/api/v11/radio/drama/set/danmaku/h5/pull?radioDramaSetId=1998492993706786915&startTime=0&endTime=10000000\n",
            "https://manbo.hongrenshuo.com.cn/api/v11/radio/drama/set/danmaku/h5/pull?radioDramaSetId=2001089404516434155&startTime=0&endTime=10000000\n",
            "https://manbo.hongrenshuo.com.cn/api/v11/radio/drama/set/danmaku/h5/pull?radioDramaSetId=2003691166855332006&startTime=0&endTime=10000000\n",
            "https://manbo.hongrenshuo.com.cn/api/v11/radio/drama/set/danmaku/h5/pull?radioDramaSetId=2006282668517359693&startTime=0&endTime=10000000\n",
            "https://manbo.hongrenshuo.com.cn/api/v11/radio/drama/set/danmaku/h5/pull?radioDramaSetId=2008889163910217945&startTime=0&endTime=10000000\n",
            "https://manbo.hongrenshuo.com.cn/api/v11/radio/drama/set/danmaku/h5/pull?radioDramaSetId=2011453701767561432&startTime=0&endTime=10000000\n",
            "https://manbo.hongrenshuo.com.cn/api/v11/radio/drama/set/danmaku/h5/pull?radioDramaSetId=1992369426904645730&startTime=0&endTime=10000000\n",
            "https://manbo.hongrenshuo.com.cn/api/v11/radio/drama/set/danmaku/h5/pull?radioDramaSetId=1997636186385940513&startTime=0&endTime=10000000\n",
            "https://manbo.hongrenshuo.com.cn/api/v11/radio/drama/set/danmaku/h5/pull?radioDramaSetId=2002920482218704958&startTime=0&endTime=10000000\n",
            "https://manbo.hongrenshuo.com.cn/api/v11/radio/drama/set/danmaku/h5/pull?radioDramaSetId=2008131935406129286&startTime=0&endTime=10000000\n",
            "https://manbo.hongrenshuo.com.cn/api/v11/radio/drama/set/danmaku/h5/pull?radioDramaSetId=2013303999448481969&startTime=0&endTime=10000000\n",
            "https://manbo.hongrenshuo.com.cn/api/v11/radio/drama/set/danmaku/h5/pull?radioDramaSetId=1981171382012084546&startTime=0&endTime=10000000\n",
            "https://manbo.hongrenshuo.com.cn/api/v11/radio/drama/set/danmaku/h5/pull?radioDramaSetId=1981171390602019076&startTime=0&endTime=10000000\n",
            "付费集弹幕ID数 (danmakuSource = 1)：7322\n",
            "付费集评论ID数 (danmakuSource = 2)：2472\n",
            "付费集+1 ID数量 (danmakuSource = 3)：4047\n",
            " ID数量 (danmakuSource = 4)：219\n",
            " ID数量 (danmakuSource = 5)：0\n",
            " ID数量 (danmakuSource = 6)：121\n",
            "付费集发弹幕产生的弹幕总数 (danmakuSource = 1)：113390\n",
            "付费集评论产生的弹幕总数 (danmakuSource = 2)：10154\n",
            "付费集+1 产生的弹幕总数 (danmakuSource = 3)：163931\n",
            "source4弹幕总数 (danmakuSource = 4)：2022\n",
            "source5弹幕总数 (danmakuSource = 5)：0\n",
            "source6弹幕总数 (danmakuSource = 6)：3796\n"
          ]
        }
      ]
    },
    {
      "cell_type": "markdown",
      "source": [
        "只输出总ID和弹幕ID"
      ],
      "metadata": {
        "id": "0lJyDcIrCHpr"
      }
    },
    {
      "cell_type": "code",
      "source": [
        "import requests\n",
        "import re\n",
        "import json\n",
        "\n",
        "# 输入漫播剧集的任意一集链接（PC 或 APP 端）\n",
        "url = \"https://www.kilamanbo.com/manbo/pc/detail?id=1966611752116289550&collectId=1972913680320299077\"\n",
        "\n",
        "# 判断链接类型\n",
        "if 'pc' in url:\n",
        "    detail_id = url.split('Id=')[1].split('&')[0]  # 提取 detail_id\n",
        "    new_url = \"https://manbo.hongdoulive.com/web_manbo/dramaSetDetail?dramaSetId=\" + detail_id\n",
        "    temp = 'data'\n",
        "else:\n",
        "    episode_id = url.split('id=')[1][:19]  # 提取 episode_id\n",
        "    radio_id = url.split('DramaId=')[1][:19]  # 提取 radio_id\n",
        "    new_url = \"https://manbo.hongrenshuo.com.cn/api/v207/radio/drama/set/h5/detail?radioDramaSetId=%s&radioDramaId=%s\" % (episode_id, radio_id)\n",
        "    temp = 'b'\n",
        "\n",
        "r = requests.get(new_url).text\n",
        "r = str(json.loads(r)[temp]['radioDramaResp']['setRespList'])\n",
        "\n",
        "# 解析付费集信息\n",
        "pattern1 = re.compile(\"'vipFree': (.+?),\")\n",
        "vipFree = re.findall(pattern1, r)\n",
        "num = len(vipFree)\n",
        "\n",
        "pattern2 = re.compile(\"'setId': (.+?),\")\n",
        "setId = re.findall(pattern2, r)\n",
        "\n",
        "# 找到所有付费集的 ID\n",
        "episodes = [setId[i] for i in range(num) if vipFree[i] == '1']  # 筛选出免费集\n",
        "# 如果没有免费集，则查找付费集\n",
        "if len(episodes) == 0:\n",
        "    pattern3 = re.compile(\"'payType': (.+?),\")\n",
        "    payType = re.findall(pattern3, r)\n",
        "    episodes = [setId[i] for i in range(num) if payType[i] == '1']  # 筛选出付费集\n",
        "\n",
        "# 弹幕分类列表\n",
        "all_danmu = []         # 所有类型弹幕 ID\n",
        "danmu_source_1 = []    # 仅包含 danmakuSource = 1 的弹幕 ID\n",
        "\n",
        "# 获取每集的弹幕信息\n",
        "for each in episodes:\n",
        "    next_url = \"https://manbo.hongrenshuo.com.cn/api/v11/radio/drama/set/danmaku/h5/pull?radioDramaSetId=%s&startTime=0&endTime=10000000\" % each\n",
        "    print(next_url)\n",
        "    danmakuList = json.loads(requests.get(next_url).content)['b']['danmakuList']\n",
        "\n",
        "    # 分类并统计弹幕\n",
        "    for j in danmakuList:\n",
        "        danmaku_source = j.get('danmakuSource')\n",
        "        eid = j.get('eid')\n",
        "\n",
        "        # 统计所有弹幕 ID\n",
        "        all_danmu.append(eid)\n",
        "\n",
        "        # 只统计 danmakuSource = 1 的弹幕 ID\n",
        "        if danmaku_source == 1:\n",
        "            danmu_source_1.append(eid)\n",
        "\n",
        "# 输出结果\n",
        "print(\"付费集的弹幕ID总数：%d\" % len(set(all_danmu)))\n",
        "print(\"去掉评论弹幕和+1弹幕后的ID总数：%d\" % len(set(danmu_source_1)))\n"
      ],
      "metadata": {
        "colab": {
          "base_uri": "https://localhost:8080/"
        },
        "id": "Wq3B97hECMLT",
        "outputId": "e46a98e0-0b45-4e5c-a9f0-3c29026e9960"
      },
      "execution_count": null,
      "outputs": [
        {
          "output_type": "stream",
          "name": "stdout",
          "text": [
            "https://manbo.hongrenshuo.com.cn/api/v11/radio/drama/set/danmaku/h5/pull?radioDramaSetId=1972918799921315869&startTime=0&endTime=10000000\n",
            "https://manbo.hongrenshuo.com.cn/api/v11/radio/drama/set/danmaku/h5/pull?radioDramaSetId=1975815806902075439&startTime=0&endTime=10000000\n",
            "https://manbo.hongrenshuo.com.cn/api/v11/radio/drama/set/danmaku/h5/pull?radioDramaSetId=1978103169044971698&startTime=0&endTime=10000000\n",
            "https://manbo.hongrenshuo.com.cn/api/v11/radio/drama/set/danmaku/h5/pull?radioDramaSetId=1980712095389319405&startTime=0&endTime=10000000\n",
            "https://manbo.hongrenshuo.com.cn/api/v11/radio/drama/set/danmaku/h5/pull?radioDramaSetId=1983328559401271385&startTime=0&endTime=10000000\n",
            "https://manbo.hongrenshuo.com.cn/api/v11/radio/drama/set/danmaku/h5/pull?radioDramaSetId=1985931047589642289&startTime=0&endTime=10000000\n",
            "https://manbo.hongrenshuo.com.cn/api/v11/radio/drama/set/danmaku/h5/pull?radioDramaSetId=1985932662497345688&startTime=0&endTime=10000000\n",
            "https://manbo.hongrenshuo.com.cn/api/v11/radio/drama/set/danmaku/h5/pull?radioDramaSetId=1988503771654651997&startTime=0&endTime=10000000\n",
            "https://manbo.hongrenshuo.com.cn/api/v11/radio/drama/set/danmaku/h5/pull?radioDramaSetId=1991109966399799450&startTime=0&endTime=10000000\n",
            "https://manbo.hongrenshuo.com.cn/api/v11/radio/drama/set/danmaku/h5/pull?radioDramaSetId=1991110559105286294&startTime=0&endTime=10000000\n",
            "https://manbo.hongrenshuo.com.cn/api/v11/radio/drama/set/danmaku/h5/pull?radioDramaSetId=1993729591507681318&startTime=0&endTime=10000000\n",
            "https://manbo.hongrenshuo.com.cn/api/v11/radio/drama/set/danmaku/h5/pull?radioDramaSetId=1994380231808385074&startTime=0&endTime=10000000\n",
            "https://manbo.hongrenshuo.com.cn/api/v11/radio/drama/set/danmaku/h5/pull?radioDramaSetId=1996594893039861829&startTime=0&endTime=10000000\n",
            "https://manbo.hongrenshuo.com.cn/api/v11/radio/drama/set/danmaku/h5/pull?radioDramaSetId=1999043398060736608&startTime=0&endTime=10000000\n",
            "https://manbo.hongrenshuo.com.cn/api/v11/radio/drama/set/danmaku/h5/pull?radioDramaSetId=2001792464892985466&startTime=0&endTime=10000000\n",
            "付费集的弹幕ID总数：795\n",
            "danmakuSource = 1 的弹幕ID总数：650\n"
          ]
        }
      ]
    },
    {
      "cell_type": "markdown",
      "source": [
        "只输出url"
      ],
      "metadata": {
        "id": "daYXEKopU_lp"
      }
    },
    {
      "cell_type": "code",
      "source": [
        "import requests\n",
        "import re\n",
        "\n",
        "# 输入剧集地址\n",
        "drama_id = 'https://www.missevan.com/mdrama/47364'\n",
        "\n",
        "# 构建 URL\n",
        "drama_url = 'http://www.missevan.com/dramaapi/getdrama?drama_id='\n",
        "url = drama_url + drama_id.split(\"/\")[4]\n",
        "\n",
        "# 请求剧集数据\n",
        "drama_result = requests.get(url).text\n",
        "\n",
        "# 使用正则表达式提取 sound_id 和 pay_type\n",
        "pattern1 = re.compile(r'\"sound_id\":(\\d+),')  # 提取 sound_id\n",
        "pattern2 = re.compile(r'\"need_pay\":(\\d+),')  # 提取付费状态 need_pay\n",
        "sound_id = re.findall(pattern1, drama_result)\n",
        "pay_type = re.findall(pattern2, drama_result)\n",
        "\n",
        "# 去掉第一个非付费项\n",
        "pay_type = pay_type[1:]\n",
        "\n",
        "# 筛选付费 sound_id\n",
        "paid_sound_ids = [sound_id[i] for i in range(len(pay_type)) if pay_type[i] == '1']\n",
        "\n",
        "# 构建每个 sound_id 对应的 URL 并打印\n",
        "sound_url = 'http://www.missevan.com/sound/getdm?soundid='\n",
        "for sid in paid_sound_ids:\n",
        "    print(sound_url + sid)\n"
      ],
      "metadata": {
        "colab": {
          "base_uri": "https://localhost:8080/"
        },
        "id": "A0aYCAY3VCU5",
        "outputId": "1824e5af-ed5d-4434-e4f6-52203ba5ff8f"
      },
      "execution_count": null,
      "outputs": [
        {
          "output_type": "stream",
          "name": "stdout",
          "text": [
            "http://www.missevan.com/sound/getdm?soundid=5197137\n",
            "http://www.missevan.com/sound/getdm?soundid=5252307\n",
            "http://www.missevan.com/sound/getdm?soundid=5266891\n",
            "http://www.missevan.com/sound/getdm?soundid=5303704\n",
            "http://www.missevan.com/sound/getdm?soundid=5359029\n",
            "http://www.missevan.com/sound/getdm?soundid=5407647\n",
            "http://www.missevan.com/sound/getdm?soundid=5462118\n",
            "http://www.missevan.com/sound/getdm?soundid=5513497\n",
            "http://www.missevan.com/sound/getdm?soundid=5569572\n",
            "http://www.missevan.com/sound/getdm?soundid=5623241\n",
            "http://www.missevan.com/sound/getdm?soundid=5677465\n",
            "http://www.missevan.com/sound/getdm?soundid=5734082\n",
            "http://www.missevan.com/sound/getdm?soundid=5791398\n",
            "http://www.missevan.com/sound/getdm?soundid=5840069\n",
            "http://www.missevan.com/sound/getdm?soundid=5851553\n",
            "http://www.missevan.com/sound/getdm?soundid=5908318\n",
            "http://www.missevan.com/sound/getdm?soundid=5964950\n",
            "http://www.missevan.com/sound/getdm?soundid=6015778\n",
            "http://www.missevan.com/sound/getdm?soundid=6544943\n"
          ]
        }
      ]
    },
    {
      "cell_type": "markdown",
      "source": [
        "剧集url"
      ],
      "metadata": {
        "id": "Mv9r5micVbTt"
      }
    },
    {
      "cell_type": "code",
      "source": [
        "# 输入剧集ID地址\n",
        "drama_id = 'https://www.missevan.com/mdrama/47364'\n",
        "\n",
        "# 构建并输出实际剧集数据接口 URL\n",
        "drama_url = 'http://www.missevan.com/dramaapi/getdrama?drama_id=' + drama_id.split(\"/\")[4]\n",
        "print(drama_url)\n",
        "\n"
      ],
      "metadata": {
        "colab": {
          "base_uri": "https://localhost:8080/"
        },
        "id": "fbhSjnjTVc-Y",
        "outputId": "ab365f67-9008-4309-97ba-f14a269d91f3"
      },
      "execution_count": null,
      "outputs": [
        {
          "output_type": "stream",
          "name": "stdout",
          "text": [
            "http://www.missevan.com/dramaapi/getdrama?drama_id=47364\n"
          ]
        }
      ]
    },
    {
      "cell_type": "markdown",
      "source": [
        "漫播弹幕第四种？"
      ],
      "metadata": {
        "id": "d23Rzla3prA0"
      }
    },
    {
      "cell_type": "code",
      "source": [
        "import requests\n",
        "import re\n",
        "import json\n",
        "\n",
        "# 输入漫播剧集的任意一集链接（PC 或 APP 端）\n",
        "url = \"https://www.kilamanbo.com/manbo/pc/detail?id=1944764730950287431&collectId=1966909818551664738\"\n",
        "\n",
        "# 判断链接类型\n",
        "if 'pc' in url:\n",
        "    detail_id = url.split('Id=')[1].split('&')[0]  # 提取 detail_id\n",
        "    new_url = \"https://manbo.hongdoulive.com/web_manbo/dramaSetDetail?dramaSetId=\" + detail_id\n",
        "    temp = 'data'\n",
        "else:\n",
        "    episode_id = url.split('id=')[1][:19]  # 提取 episode_id\n",
        "    radio_id = url.split('DramaId=')[1][:19]  # 提取 radio_id\n",
        "    new_url = \"https://manbo.hongrenshuo.com.cn/api/v207/radio/drama/set/h5/detail?radioDramaSetId=%s&radioDramaId=%s\" % (episode_id, radio_id)\n",
        "    temp = 'b'\n",
        "\n",
        "r = requests.get(new_url).text\n",
        "r = str(json.loads(r)[temp]['radioDramaResp']['setRespList'])\n",
        "\n",
        "# 解析付费集信息\n",
        "pattern1 = re.compile(\"'vipFree': (.+?),\")\n",
        "vipFree = re.findall(pattern1, r)\n",
        "num = len(vipFree)\n",
        "\n",
        "pattern2 = re.compile(\"'setId': (.+?),\")\n",
        "setId = re.findall(pattern2, r)\n",
        "\n",
        "# 找到所有付费集的 ID\n",
        "episodes = [setId[i] for i in range(num) if vipFree[i] == '1']  # 筛选出免费集\n",
        "# 如果没有免费集，则查找付费集\n",
        "if len(episodes) == 0:\n",
        "    pattern3 = re.compile(\"'payType': (.+?),\")\n",
        "    payType = re.findall(pattern3, r)\n",
        "    episodes = [setId[i] for i in range(num) if payType[i] == '1']  # 筛选出付费集\n",
        "\n",
        "# 弹幕分类列表\n",
        "title = \"万米\"\n",
        "danmu = []\n",
        "pure_danmu = []  # 存储纯弹幕（danmakuSource = 1）\n",
        "danmu_plus2 = []  # 存储弹幕ID和+1ID（danmakuSource = 1 + 2）\n",
        "danmu_plus3 = []  # 存储弹幕ID和+1ID（danmakuSource = 1 + 3）\n",
        "danmu_plus4 = []  # 存储弹幕ID和+1ID（danmakuSource = 1 + 4）\n",
        "danmu_plus5 = []  # 存储弹幕ID和+1ID（danmakuSource = 1 + 5）\n",
        "danmu_plus6 = []  # 存储弹幕ID和+1ID（danmakuSource = 1 + 6）\n",
        "\n",
        "# 获取每集的弹幕信息\n",
        "for each in episodes:\n",
        "    next_url = \"https://manbo.hongrenshuo.com.cn/api/v11/radio/drama/set/danmaku/h5/pull?radioDramaSetId=%s&startTime=0&endTime=10000000\" % each\n",
        "    print(next_url)\n",
        "    danmakuList = json.loads(requests.get(next_url).content)['b']['danmakuList']\n",
        "\n",
        "    # 分类并统计弹幕\n",
        "    for j in danmakuList:\n",
        "\n",
        "        eid = j.get('eid')\n",
        "\n",
        "        # 统计所有弹幕 ID\n",
        "        danmu.append(eid)\n",
        "\n",
        "         # 分类存储纯弹幕\n",
        "        if j.get('danmakuSource') == 1:\n",
        "           pure_danmu.append(eid)\n",
        "           danmu_plus2.append(eid)  # 纯弹幕也存入弹幕ID和评论ID列表\n",
        "           danmu_plus3.append(eid)\n",
        "           danmu_plus4.append(eid)\n",
        "           danmu_plus5.append(eid)\n",
        "           danmu_plus6.append(eid)\n",
        "\n",
        "                # 分类存储评论弹幕（danmakuSource = 2）\n",
        "\n",
        "        elif j.get('danmakuSource') == 2:\n",
        "                    danmu_plus2.append(eid)\n",
        "        elif j.get('danmakuSource') == 3:\n",
        "                    danmu_plus3.append(eid)\n",
        "        elif j.get('danmakuSource') == 4:\n",
        "                    danmu_plus4.append(eid)\n",
        "        elif j.get('danmakuSource') == 5:\n",
        "                    danmu_plus5.append(eid)\n",
        "        elif j.get('danmakuSource') == 6:\n",
        "                    danmu_plus6.append(eid)\n",
        "\n",
        "# 去重并获取最终的 UID 数量、纯弹幕的 UID 数量、弹幕ID和+1ID的数量\n",
        "unique_uids = len(set(all_danmu))\n",
        "unique_pure_danmu_ids = len(set(pure_danmu))\n",
        "unique_danmu_plus2_ids = len(set(danmu_plus2))\n",
        "unique_danmu_plus3_ids = len(set(danmu_plus3))\n",
        "unique_danmu_plus4_ids = len(set(danmu_plus4))\n",
        "unique_danmu_plus5_ids = len(set(danmu_plus5))\n",
        "unique_danmu_plus6_ids = len(set(danmu_plus6))\n",
        "\n",
        "print(f\"{title} 的 UID 总数量: {unique_uids}\")\n",
        "print(f\"{title} 的 纯弹幕ID 总数量: {unique_pure_danmu_ids}\")\n",
        "print(f\"{title} 的 1+2 总数量: {unique_danmu_plus2_ids}\")\n",
        "print(f\"{title} 的 1+3 总数量: {unique_danmu_plus3_ids}\")\n",
        "print(f\"{title} 的 1+4 总数量: {unique_danmu_plus4_ids}\")\n",
        "print(f\"{title} 的 1+5 总数量: {unique_danmu_plus5_ids}\")\n",
        "print(f\"{title} 的 1+6 总数量: {unique_danmu_plus6_ids}\")\n",
        "\n",
        "\n",
        "\n"
      ],
      "metadata": {
        "colab": {
          "base_uri": "https://localhost:8080/"
        },
        "id": "Gfdxc6mcxEkJ",
        "outputId": "d3f1a15c-f02d-4ce2-ebb3-8208d66190f2"
      },
      "execution_count": null,
      "outputs": [
        {
          "output_type": "stream",
          "name": "stdout",
          "text": [
            "https://manbo.hongrenshuo.com.cn/api/v11/radio/drama/set/danmaku/h5/pull?radioDramaSetId=1972503008432357537&startTime=0&endTime=10000000\n",
            "https://manbo.hongrenshuo.com.cn/api/v11/radio/drama/set/danmaku/h5/pull?radioDramaSetId=1975132550619725955&startTime=0&endTime=10000000\n",
            "https://manbo.hongrenshuo.com.cn/api/v11/radio/drama/set/danmaku/h5/pull?radioDramaSetId=1977715801649578080&startTime=0&endTime=10000000\n",
            "https://manbo.hongrenshuo.com.cn/api/v11/radio/drama/set/danmaku/h5/pull?radioDramaSetId=1980245223854309438&startTime=0&endTime=10000000\n",
            "https://manbo.hongrenshuo.com.cn/api/v11/radio/drama/set/danmaku/h5/pull?radioDramaSetId=1982901424903684266&startTime=0&endTime=10000000\n",
            "https://manbo.hongrenshuo.com.cn/api/v11/radio/drama/set/danmaku/h5/pull?radioDramaSetId=1985499098433716288&startTime=0&endTime=10000000\n",
            "https://manbo.hongrenshuo.com.cn/api/v11/radio/drama/set/danmaku/h5/pull?radioDramaSetId=1988100293836931134&startTime=0&endTime=10000000\n",
            "https://manbo.hongrenshuo.com.cn/api/v11/radio/drama/set/danmaku/h5/pull?radioDramaSetId=1990677854035116060&startTime=0&endTime=10000000\n",
            "https://manbo.hongrenshuo.com.cn/api/v11/radio/drama/set/danmaku/h5/pull?radioDramaSetId=1993256900291985543&startTime=0&endTime=10000000\n",
            "https://manbo.hongrenshuo.com.cn/api/v11/radio/drama/set/danmaku/h5/pull?radioDramaSetId=1995885304313020545&startTime=0&endTime=10000000\n",
            "https://manbo.hongrenshuo.com.cn/api/v11/radio/drama/set/danmaku/h5/pull?radioDramaSetId=1998492993706786915&startTime=0&endTime=10000000\n",
            "https://manbo.hongrenshuo.com.cn/api/v11/radio/drama/set/danmaku/h5/pull?radioDramaSetId=2001089404516434155&startTime=0&endTime=10000000\n",
            "https://manbo.hongrenshuo.com.cn/api/v11/radio/drama/set/danmaku/h5/pull?radioDramaSetId=2003691166855332006&startTime=0&endTime=10000000\n",
            "https://manbo.hongrenshuo.com.cn/api/v11/radio/drama/set/danmaku/h5/pull?radioDramaSetId=2006282668517359693&startTime=0&endTime=10000000\n",
            "https://manbo.hongrenshuo.com.cn/api/v11/radio/drama/set/danmaku/h5/pull?radioDramaSetId=2008889163910217945&startTime=0&endTime=10000000\n",
            "https://manbo.hongrenshuo.com.cn/api/v11/radio/drama/set/danmaku/h5/pull?radioDramaSetId=2011453701767561432&startTime=0&endTime=10000000\n",
            "https://manbo.hongrenshuo.com.cn/api/v11/radio/drama/set/danmaku/h5/pull?radioDramaSetId=1992369426904645730&startTime=0&endTime=10000000\n",
            "https://manbo.hongrenshuo.com.cn/api/v11/radio/drama/set/danmaku/h5/pull?radioDramaSetId=1997636186385940513&startTime=0&endTime=10000000\n",
            "https://manbo.hongrenshuo.com.cn/api/v11/radio/drama/set/danmaku/h5/pull?radioDramaSetId=2002920482218704958&startTime=0&endTime=10000000\n",
            "https://manbo.hongrenshuo.com.cn/api/v11/radio/drama/set/danmaku/h5/pull?radioDramaSetId=2008131935406129286&startTime=0&endTime=10000000\n",
            "https://manbo.hongrenshuo.com.cn/api/v11/radio/drama/set/danmaku/h5/pull?radioDramaSetId=1981171382012084546&startTime=0&endTime=10000000\n",
            "https://manbo.hongrenshuo.com.cn/api/v11/radio/drama/set/danmaku/h5/pull?radioDramaSetId=1981171390602019076&startTime=0&endTime=10000000\n",
            "https://manbo.hongrenshuo.com.cn/api/v11/radio/drama/set/danmaku/h5/pull?radioDramaSetId=2013303999448481969&startTime=0&endTime=10000000\n",
            "万米 的 UID 总数量: 10657\n",
            "万米 的 纯弹幕ID 总数量: 7323\n",
            "万米 的 1+2 总数量: 8121\n",
            "万米 的 1+3 总数量: 9207\n",
            "万米 的 1+4 总数量: 7412\n",
            "万米 的 1+5 总数量: 7323\n",
            "万米 的 1+6 总数量: 7377\n"
          ]
        }
      ]
    }
  ]
}